{
 "cells": [
  {
   "cell_type": "code",
   "execution_count": 1,
   "id": "30d76c67",
   "metadata": {},
   "outputs": [
    {
     "data": {
      "application/javascript": [
       "IPython.OutputArea.prototype._should_scroll = function(lines) { return false; }"
      ],
      "text/plain": [
       "<IPython.core.display.Javascript object>"
      ]
     },
     "metadata": {},
     "output_type": "display_data"
    }
   ],
   "source": [
    "import matplotlib.pyplot as plt\n",
    "import numpy as np\n",
    "import os\n",
    "import pandas as pd\n",
    "import pyam\n",
    "import pymagicc\n",
    "import scmdata\n",
    "import silicone.multiple_infillers as mi\n",
    "import sys"
   ]
  },
  {
   "cell_type": "code",
   "execution_count": 2,
   "id": "e9eef9cd",
   "metadata": {},
   "outputs": [],
   "source": [
    "sys.path.insert(0, '..')"
   ]
  },
  {
   "cell_type": "code",
   "execution_count": 3,
   "id": "ae5f5250",
   "metadata": {},
   "outputs": [],
   "source": [
    "import scripts.utils"
   ]
  },
  {
   "cell_type": "code",
   "execution_count": 4,
   "id": "9560c4c4",
   "metadata": {
    "scrolled": true
   },
   "outputs": [
    {
     "name": "stderr",
     "output_type": "stream",
     "text": [
      "pyam - INFO: Running in a notebook, setting up a basic logging at level INFO\n",
      "pyam.core - INFO: Reading file ..\\input\\complete_sr15_emissions.csv\n"
     ]
    }
   ],
   "source": [
    "sr15 = pyam.IamDataFrame(\"..\\input\\complete_sr15_emissions.csv\").filter(region=\"World\")"
   ]
  },
  {
   "cell_type": "code",
   "execution_count": 5,
   "id": "c40008a4",
   "metadata": {},
   "outputs": [
    {
     "name": "stderr",
     "output_type": "stream",
     "text": [
      "pyam.core - INFO: Reading file ..\\input\\rcmip-emissions-annual-means-v5-1-0.csv\n"
     ]
    }
   ],
   "source": [
    "rcmip = pyam.IamDataFrame(\"../input/rcmip-emissions-annual-means-v5-1-0.csv\")"
   ]
  },
  {
   "cell_type": "code",
   "execution_count": 6,
   "id": "a46965fe",
   "metadata": {},
   "outputs": [
    {
     "data": {
      "text/plain": [
       "['REMIND-MAGPIE']"
      ]
     },
     "execution_count": 6,
     "metadata": {},
     "output_type": "execute_result"
    }
   ],
   "source": [
    "rcmip.filter(scenario=\"ssp534-over\").model"
   ]
  },
  {
   "cell_type": "code",
   "execution_count": 7,
   "id": "b211824c",
   "metadata": {},
   "outputs": [],
   "source": [
    "version = \"v5\"\n",
    "outdir = f'../output/chosen_files/{version}/'\n",
    "scen_file = outdir + \"scen_{}\"\n",
    "if not os.path.exists(outdir):\n",
    "    os.makedirs(outdir)"
   ]
  },
  {
   "cell_type": "code",
   "execution_count": 8,
   "id": "3317f26a",
   "metadata": {},
   "outputs": [
    {
     "name": "stderr",
     "output_type": "stream",
     "text": [
      "pyam.core - INFO: No scenarios satisfy the criteria\n",
      "pyam.core - INFO: No scenarios satisfy the criteria\n"
     ]
    }
   ],
   "source": [
    "med_temp = 'AR5 climate diagnostics|Temperature|Global Mean|MAGICC6|MED'\n",
    "sr15.set_meta(meta='uncategorized', name='warming_category')\n",
    "sr15.categorize(\n",
    "    'warming_category', 'below 1.6C',\n",
    "    criteria={med_temp: {'up': 1.6, 'lo': 1.5, 'year': 2100}},\n",
    "    color='xkcd:blue'\n",
    ")\n",
    "sr15.categorize(\n",
    "    'warming_category', 'below 1.5C',\n",
    "    criteria={med_temp: {'up': 1.5, 'year': 2100}},\n",
    "    color='xkcd:baby blue'\n",
    ")"
   ]
  },
  {
   "cell_type": "code",
   "execution_count": 9,
   "id": "1deee2d1",
   "metadata": {},
   "outputs": [
    {
     "name": "stderr",
     "output_type": "stream",
     "text": [
      "pyam.core - WARNING: Filtered IamDataFrame is empty!\n"
     ]
    }
   ],
   "source": [
    "peak = 'peak_temperature'\n",
    "sr15.set_meta_from_data(name=peak, variable=med_temp, method=np.max)"
   ]
  },
  {
   "cell_type": "code",
   "execution_count": 10,
   "id": "4f6fab86",
   "metadata": {},
   "outputs": [
    {
     "name": "stderr",
     "output_type": "stream",
     "text": [
      "pyam.core - WARNING: Filtered IamDataFrame is empty!\n"
     ]
    },
    {
     "data": {
      "text/plain": [
       "<class 'pyam.core.IamDataFrame'>\n",
       "Index:\n",
       " * model    : (0)\n",
       " * scenario : (0)\n",
       "Timeseries data coordinates:\n",
       "   region   : (0)\n",
       "   variable : (0)\n",
       "   unit     : (0)\n",
       "   year     : (0)\n",
       "Meta indicators:\n",
       "   exclude (bool) (0)\n",
       "   warming_category (object) (0)\n",
       "   peak_temperature (object) (0)"
      ]
     },
     "execution_count": 10,
     "metadata": {},
     "output_type": "execute_result"
    }
   ],
   "source": [
    "sr15.filter(\n",
    "    peak_temperature=[x for x in sr15.meta.peak_temperature if x < 2 and x > 1.8], scenario=\"SSP*\"\n",
    ")"
   ]
  },
  {
   "cell_type": "code",
   "execution_count": 11,
   "id": "5a9467fd",
   "metadata": {},
   "outputs": [
    {
     "data": {
      "text/plain": [
       "['AIM/CGE 2.0',\n",
       " 'GCAM 4.2',\n",
       " 'IMAGE 3.0.1',\n",
       " 'MESSAGE-GLOBIOM 1.0',\n",
       " 'REMIND-MAgPIE 1.5',\n",
       " 'WITCH-GLOBIOM 3.1']"
      ]
     },
     "execution_count": 11,
     "metadata": {},
     "output_type": "execute_result"
    }
   ],
   "source": [
    "sr15.filter(scenario=\"SSP*\").model"
   ]
  },
  {
   "cell_type": "code",
   "execution_count": 12,
   "id": "d86b29a1",
   "metadata": {},
   "outputs": [
    {
     "data": {
      "text/plain": [
       "['esm-bell-1000PgC',\n",
       " 'esm-bell-2000PgC',\n",
       " 'esm-bell-750PgC',\n",
       " 'esm-pi-CO2pulse',\n",
       " 'esm-pi-cdr-pulse',\n",
       " 'esm-piControl',\n",
       " 'historical',\n",
       " 'historical-cmip5',\n",
       " 'rcp26',\n",
       " 'rcp45',\n",
       " 'rcp60',\n",
       " 'rcp85',\n",
       " 'ssp119',\n",
       " 'ssp126',\n",
       " 'ssp245',\n",
       " 'ssp370',\n",
       " 'ssp370-lowNTCF-aerchemmip',\n",
       " 'ssp370-lowNTCF-gidden',\n",
       " 'ssp434',\n",
       " 'ssp460',\n",
       " 'ssp534-over',\n",
       " 'ssp585']"
      ]
     },
     "execution_count": 12,
     "metadata": {},
     "output_type": "execute_result"
    }
   ],
   "source": [
    "rcmip.scenario"
   ]
  },
  {
   "cell_type": "code",
   "execution_count": 13,
   "id": "5a3e91de",
   "metadata": {},
   "outputs": [
    {
     "data": {
      "text/plain": [
       "<class 'pyam.core.IamDataFrame'>\n",
       "Index:\n",
       " * model       : IMAGE (1)\n",
       " * scenario    : ssp119 (1)\n",
       "Timeseries data coordinates:\n",
       "   region      : World, World|R5.2ASIA, World|R5.2LAM, ... World|R5.2REF (6)\n",
       "   variable    : Emissions|BC, ... (182)\n",
       "   unit        : Mt BC/yr, Mt CH4/yr, Mt CO/yr, Mt CO2/yr, ... kt cC4F8/yr (51)\n",
       "   year        : 1750, 1751, 1752, 1753, 1754, 1755, 1756, 1757, ... 2500 (315)\n",
       "   mip_era     : CMIP6 (1)\n",
       "   activity_id : not_applicable (1)\n",
       "Meta indicators:\n",
       "   exclude (bool) False (1)"
      ]
     },
     "execution_count": 13,
     "metadata": {},
     "output_type": "execute_result"
    }
   ],
   "source": [
    "rcmip.filter(scenario=\"ssp119\")"
   ]
  },
  {
   "cell_type": "code",
   "execution_count": 14,
   "id": "7a94008b",
   "metadata": {},
   "outputs": [],
   "source": [
    "desired_scenarios = []\n",
    "desired_scenarios.append(rcmip.filter(model=\"REMIND-MAGPIE\", scenario=\"ssp534-over\"))\n",
    "desired_scenarios.append(rcmip.filter(model=\"IMAGE\", scenario=\"ssp119\"))"
   ]
  },
  {
   "cell_type": "code",
   "execution_count": 15,
   "id": "8ed8fb18",
   "metadata": {},
   "outputs": [],
   "source": [
    "df = pyam.concat(desired_scenarios).filter(region=\"World\", variable=\"Emissions*\")"
   ]
  },
  {
   "cell_type": "markdown",
   "id": "4b03ec02",
   "metadata": {},
   "source": [
    "# Infill the missing emissions"
   ]
  },
  {
   "cell_type": "code",
   "execution_count": 16,
   "id": "7770c449",
   "metadata": {},
   "outputs": [],
   "source": [
    "df = df.data\n",
    "del df[\"activity_id\"]\n",
    "del df[\"mip_era\"]"
   ]
  },
  {
   "cell_type": "code",
   "execution_count": 17,
   "id": "9a1d816d",
   "metadata": {},
   "outputs": [],
   "source": [
    "df[\"variable\"] = df[\"variable\"].str.replace(\"MAGICC AFOLU\", \"AFOLU\").replace(\n",
    "    \"MAGICC Fossil and Industrial\", \"Energy and Industrial Processes\"\n",
    ")"
   ]
  },
  {
   "cell_type": "code",
   "execution_count": 18,
   "id": "036e5082",
   "metadata": {},
   "outputs": [],
   "source": [
    "df = pyam.IamDataFrame(df)"
   ]
  },
  {
   "cell_type": "code",
   "execution_count": 19,
   "id": "665bcd84",
   "metadata": {},
   "outputs": [],
   "source": [
    "missing_emissions = [\n",
    "    'Emissions|PFC|C2F6', 'Emissions|HFC|HFC43-10', 'Emissions|PFC|C6F14', 'Emissions|HFC|HFC125', \n",
    "    'Emissions|HFC|HFC32', 'Emissions|HFC|HFC143a', 'Emissions|HFC|HFC245fa', 'Emissions|HFC|HFC23', \n",
    "    'Emissions|HFC|HFC134a', 'Emissions|SF6', 'Emissions|PFC|CF4', 'Emissions|HFC|HFC227ea', \n",
    "]\n",
    "leader = \"Emissions|CO2\"\n",
    "cent = [y for y in df.year if y<=2100 and y > 2000]\n",
    "infillee_df = df.filter(year=cent, variable=leader)"
   ]
  },
  {
   "cell_type": "code",
   "execution_count": 20,
   "id": "c4864288",
   "metadata": {},
   "outputs": [],
   "source": [
    "for em in missing_emissions:\n",
    "    is_empty = sr15.filter(region=\"World\", variable=em).empty\n",
    "    if is_empty:\n",
    "        print(em)"
   ]
  },
  {
   "cell_type": "code",
   "execution_count": 21,
   "id": "b66e46d2",
   "metadata": {},
   "outputs": [
    {
     "name": "stderr",
     "output_type": "stream",
     "text": [
      "Filling required variables: 100%|██████████████████████████████████████████████████████| 12/12 [00:01<00:00,  6.34it/s]\n"
     ]
    }
   ],
   "source": [
    "infilled_df = mi.infill_all_required_variables(\n",
    "    infillee_df.filter(year=cent), \n",
    "    sr15.filter(region=\"World\", year=cent), [leader], \n",
    "    required_variables_list=missing_emissions\n",
    ")"
   ]
  },
  {
   "cell_type": "code",
   "execution_count": 22,
   "id": "22139a36",
   "metadata": {},
   "outputs": [],
   "source": [
    "df = infilled_df.append(df.filter(variable=\"Emissions|CO2\", keep=False))"
   ]
  },
  {
   "cell_type": "code",
   "execution_count": 23,
   "id": "a8432f6b",
   "metadata": {},
   "outputs": [],
   "source": [
    "normal_years = [2015] + list(np.arange(2020, 2101, 10))\n",
    "normal_years\n",
    "bad_vars = [\n",
    "    \"*Sulfur|*\", \"*|BC|*\", \"*CH4|*\", \"Emissions|Montreal Gases|*\", \"Emissions|VOC|*\", \n",
    "    \"Emissions|NH3|*\", \"Emissions|NOx|*\", \"Emissions|OC|*\", \"Emissions|CO|*\", \n",
    "]"
   ]
  },
  {
   "cell_type": "code",
   "execution_count": 24,
   "id": "302241f7",
   "metadata": {},
   "outputs": [
    {
     "name": "stderr",
     "output_type": "stream",
     "text": [
      "pyam.utils - WARNING: Formatted data is empty!\n",
      "pyam.utils - WARNING: Formatted data is empty!\n"
     ]
    }
   ],
   "source": [
    "for scenario in df.scenario:\n",
    "    scripts.utils.construct_scen_file(\n",
    "        df.filter(scenario=scenario, variable=\"Emissions|*\", year=normal_years).filter(\n",
    "            variable=bad_vars, keep=False\n",
    "        ), \n",
    "        scen_file.format(scenario)\n",
    "    )"
   ]
  },
  {
   "cell_type": "code",
   "execution_count": 25,
   "id": "43cfdafe",
   "metadata": {},
   "outputs": [
    {
     "data": {
      "text/plain": [
       "'../output/chosen_files/v5/scen_{}'"
      ]
     },
     "execution_count": 25,
     "metadata": {},
     "output_type": "execute_result"
    }
   ],
   "source": [
    "scen_file"
   ]
  },
  {
   "cell_type": "markdown",
   "id": "2b8255a1",
   "metadata": {},
   "source": [
    "# Also can select scenarios from complete tiling"
   ]
  },
  {
   "cell_type": "code",
   "execution_count": 26,
   "id": "656bbb54",
   "metadata": {},
   "outputs": [
    {
     "data": {
      "text/html": [
       "<div>\n",
       "<style scoped>\n",
       "    .dataframe tbody tr th:only-of-type {\n",
       "        vertical-align: middle;\n",
       "    }\n",
       "\n",
       "    .dataframe tbody tr th {\n",
       "        vertical-align: top;\n",
       "    }\n",
       "\n",
       "    .dataframe thead th {\n",
       "        text-align: right;\n",
       "    }\n",
       "</style>\n",
       "<table border=\"1\" class=\"dataframe\">\n",
       "  <thead>\n",
       "    <tr style=\"text-align: right;\">\n",
       "      <th></th>\n",
       "      <th>climate_model</th>\n",
       "      <th>model</th>\n",
       "      <th>region</th>\n",
       "      <th>scenario</th>\n",
       "      <th>unit</th>\n",
       "      <th>variable</th>\n",
       "      <th>quantile</th>\n",
       "      <th>2010</th>\n",
       "      <th>2011</th>\n",
       "      <th>2012</th>\n",
       "      <th>...</th>\n",
       "      <th>2291</th>\n",
       "      <th>2292</th>\n",
       "      <th>2293</th>\n",
       "      <th>2294</th>\n",
       "      <th>2295</th>\n",
       "      <th>2296</th>\n",
       "      <th>2297</th>\n",
       "      <th>2298</th>\n",
       "      <th>2299</th>\n",
       "      <th>2300</th>\n",
       "    </tr>\n",
       "  </thead>\n",
       "  <tbody>\n",
       "    <tr>\n",
       "      <th>0</th>\n",
       "      <td>FaIRv1.6.4</td>\n",
       "      <td>NameVanished</td>\n",
       "      <td>World</td>\n",
       "      <td>scen_2030fact0.12_nz2040_ov-10000_meth0.1</td>\n",
       "      <td>K</td>\n",
       "      <td>Surface Temperature</td>\n",
       "      <td>0.1</td>\n",
       "      <td>0.931664</td>\n",
       "      <td>0.949297</td>\n",
       "      <td>0.967368</td>\n",
       "      <td>...</td>\n",
       "      <td>0.099868</td>\n",
       "      <td>0.096647</td>\n",
       "      <td>0.093437</td>\n",
       "      <td>0.090239</td>\n",
       "      <td>0.087053</td>\n",
       "      <td>0.083879</td>\n",
       "      <td>0.080717</td>\n",
       "      <td>0.077567</td>\n",
       "      <td>0.074429</td>\n",
       "      <td>0.071302</td>\n",
       "    </tr>\n",
       "    <tr>\n",
       "      <th>1</th>\n",
       "      <td>FaIRv1.6.4</td>\n",
       "      <td>NameVanished</td>\n",
       "      <td>World</td>\n",
       "      <td>scen_2030fact0.12_nz2040_ov-10000_meth0.25</td>\n",
       "      <td>K</td>\n",
       "      <td>Surface Temperature</td>\n",
       "      <td>0.1</td>\n",
       "      <td>0.931664</td>\n",
       "      <td>0.949297</td>\n",
       "      <td>0.967368</td>\n",
       "      <td>...</td>\n",
       "      <td>0.135194</td>\n",
       "      <td>0.132734</td>\n",
       "      <td>0.130283</td>\n",
       "      <td>0.127841</td>\n",
       "      <td>0.125408</td>\n",
       "      <td>0.122984</td>\n",
       "      <td>0.120374</td>\n",
       "      <td>0.117310</td>\n",
       "      <td>0.114259</td>\n",
       "      <td>0.111219</td>\n",
       "    </tr>\n",
       "    <tr>\n",
       "      <th>2</th>\n",
       "      <td>FaIRv1.6.4</td>\n",
       "      <td>NameVanished</td>\n",
       "      <td>World</td>\n",
       "      <td>scen_2030fact0.12_nz2040_ov-10000_meth0.5</td>\n",
       "      <td>K</td>\n",
       "      <td>Surface Temperature</td>\n",
       "      <td>0.1</td>\n",
       "      <td>0.931664</td>\n",
       "      <td>0.949297</td>\n",
       "      <td>0.967368</td>\n",
       "      <td>...</td>\n",
       "      <td>0.175823</td>\n",
       "      <td>0.173365</td>\n",
       "      <td>0.170916</td>\n",
       "      <td>0.168477</td>\n",
       "      <td>0.166046</td>\n",
       "      <td>0.163624</td>\n",
       "      <td>0.161211</td>\n",
       "      <td>0.158807</td>\n",
       "      <td>0.156412</td>\n",
       "      <td>0.154026</td>\n",
       "    </tr>\n",
       "    <tr>\n",
       "      <th>3</th>\n",
       "      <td>FaIRv1.6.4</td>\n",
       "      <td>NameVanished</td>\n",
       "      <td>World</td>\n",
       "      <td>scen_2030fact0.12_nz2040_ov-10000_meth0.75</td>\n",
       "      <td>K</td>\n",
       "      <td>Surface Temperature</td>\n",
       "      <td>0.1</td>\n",
       "      <td>0.931664</td>\n",
       "      <td>0.949297</td>\n",
       "      <td>0.967368</td>\n",
       "      <td>...</td>\n",
       "      <td>0.247033</td>\n",
       "      <td>0.244419</td>\n",
       "      <td>0.241771</td>\n",
       "      <td>0.238736</td>\n",
       "      <td>0.235823</td>\n",
       "      <td>0.233404</td>\n",
       "      <td>0.230993</td>\n",
       "      <td>0.228591</td>\n",
       "      <td>0.226198</td>\n",
       "      <td>0.223814</td>\n",
       "    </tr>\n",
       "    <tr>\n",
       "      <th>4</th>\n",
       "      <td>FaIRv1.6.4</td>\n",
       "      <td>NameVanished</td>\n",
       "      <td>World</td>\n",
       "      <td>scen_2030fact0.12_nz2040_ov-10000_meth0.9</td>\n",
       "      <td>K</td>\n",
       "      <td>Surface Temperature</td>\n",
       "      <td>0.1</td>\n",
       "      <td>0.931664</td>\n",
       "      <td>0.949297</td>\n",
       "      <td>0.967368</td>\n",
       "      <td>...</td>\n",
       "      <td>0.367415</td>\n",
       "      <td>0.364812</td>\n",
       "      <td>0.362219</td>\n",
       "      <td>0.359636</td>\n",
       "      <td>0.357062</td>\n",
       "      <td>0.354498</td>\n",
       "      <td>0.351943</td>\n",
       "      <td>0.349399</td>\n",
       "      <td>0.346864</td>\n",
       "      <td>0.344338</td>\n",
       "    </tr>\n",
       "  </tbody>\n",
       "</table>\n",
       "<p>5 rows × 298 columns</p>\n",
       "</div>"
      ],
      "text/plain": [
       "  climate_model         model region  \\\n",
       "0    FaIRv1.6.4  NameVanished  World   \n",
       "1    FaIRv1.6.4  NameVanished  World   \n",
       "2    FaIRv1.6.4  NameVanished  World   \n",
       "3    FaIRv1.6.4  NameVanished  World   \n",
       "4    FaIRv1.6.4  NameVanished  World   \n",
       "\n",
       "                                     scenario unit             variable  \\\n",
       "0   scen_2030fact0.12_nz2040_ov-10000_meth0.1    K  Surface Temperature   \n",
       "1  scen_2030fact0.12_nz2040_ov-10000_meth0.25    K  Surface Temperature   \n",
       "2   scen_2030fact0.12_nz2040_ov-10000_meth0.5    K  Surface Temperature   \n",
       "3  scen_2030fact0.12_nz2040_ov-10000_meth0.75    K  Surface Temperature   \n",
       "4   scen_2030fact0.12_nz2040_ov-10000_meth0.9    K  Surface Temperature   \n",
       "\n",
       "   quantile      2010      2011      2012  ...      2291      2292      2293  \\\n",
       "0       0.1  0.931664  0.949297  0.967368  ...  0.099868  0.096647  0.093437   \n",
       "1       0.1  0.931664  0.949297  0.967368  ...  0.135194  0.132734  0.130283   \n",
       "2       0.1  0.931664  0.949297  0.967368  ...  0.175823  0.173365  0.170916   \n",
       "3       0.1  0.931664  0.949297  0.967368  ...  0.247033  0.244419  0.241771   \n",
       "4       0.1  0.931664  0.949297  0.967368  ...  0.367415  0.364812  0.362219   \n",
       "\n",
       "       2294      2295      2296      2297      2298      2299      2300  \n",
       "0  0.090239  0.087053  0.083879  0.080717  0.077567  0.074429  0.071302  \n",
       "1  0.127841  0.125408  0.122984  0.120374  0.117310  0.114259  0.111219  \n",
       "2  0.168477  0.166046  0.163624  0.161211  0.158807  0.156412  0.154026  \n",
       "3  0.238736  0.235823  0.233404  0.230993  0.228591  0.226198  0.223814  \n",
       "4  0.359636  0.357062  0.354498  0.351943  0.349399  0.346864  0.344338  \n",
       "\n",
       "[5 rows x 298 columns]"
      ]
     },
     "execution_count": 26,
     "metadata": {},
     "output_type": "execute_result"
    }
   ],
   "source": [
    "date_str = \"2022-03-15\"\n",
    "version = \"v5\"\n",
    "fair_output_dir = \"../output/{}/fair/\".format(version)\n",
    "runs_quantiles = pd.read_csv('{}fair_output_quantiles_{}_{}.csv'.format(fair_output_dir, date_str, version))\n",
    "runs_quantiles.head()"
   ]
  },
  {
   "cell_type": "code",
   "execution_count": 27,
   "id": "4730cfaf",
   "metadata": {},
   "outputs": [
    {
     "name": "stderr",
     "output_type": "stream",
     "text": [
      "C:\\Users\\rlamboll\\Anaconda3\\envs\\silicone-1\\lib\\site-packages\\ipykernel_launcher.py:17: UserWarning: Legend does not support 3762 instances.\n",
      "A proxy artist may be used instead.\n",
      "See: https://matplotlib.org/users/legend_guide.html#creating-artists-specifically-for-adding-to-the-legend-aka-proxy-artists\n",
      "C:\\Users\\rlamboll\\Anaconda3\\envs\\silicone-1\\lib\\site-packages\\ipykernel_launcher.py:17: UserWarning: Legend does not support 4188 instances.\n",
      "A proxy artist may be used instead.\n",
      "See: https://matplotlib.org/users/legend_guide.html#creating-artists-specifically-for-adding-to-the-legend-aka-proxy-artists\n",
      "C:\\Users\\rlamboll\\Anaconda3\\envs\\silicone-1\\lib\\site-packages\\ipykernel_launcher.py:17: UserWarning: Legend does not support 4377 instances.\n",
      "A proxy artist may be used instead.\n",
      "See: https://matplotlib.org/users/legend_guide.html#creating-artists-specifically-for-adding-to-the-legend-aka-proxy-artists\n",
      "C:\\Users\\rlamboll\\Anaconda3\\envs\\silicone-1\\lib\\site-packages\\ipykernel_launcher.py:17: UserWarning: Legend does not support 4427 instances.\n",
      "A proxy artist may be used instead.\n",
      "See: https://matplotlib.org/users/legend_guide.html#creating-artists-specifically-for-adding-to-the-legend-aka-proxy-artists\n"
     ]
    },
    {
     "data": {
      "text/plain": [
       "<matplotlib.legend.Legend at 0x1a9eca32c88>"
      ]
     },
     "execution_count": 27,
     "metadata": {},
     "output_type": "execute_result"
    },
    {
     "data": {
      "image/png": "[encoded data removed]",
      "text/plain": [
       "<Figure size 432x288 with 1 Axes>"
      ]
     },
     "metadata": {
      "needs_background": "light"
     },
     "output_type": "display_data"
    }
   ],
   "source": [
    "illustrative_scens = [\n",
    "    \"scen_2030fact1.32_nz2080_ov-10000_meth0.5\", \n",
    "    \"scen_2030fact0.72_nz2070_ov-5000_meth0.5\",\n",
    "    \"scen_2030fact1.32_nz2100_ov-10000_meth0.5\",\n",
    "    \"scen_2030fact1.12_nz2080_ov-5000_meth0.75\", \n",
    "]\n",
    "plotcols = [str(x) for x in range(2010, 2301)]\n",
    "ax=plt.subplot(111)\n",
    "runs_quantiles.loc[\n",
    "    (runs_quantiles[\"quantile\"]==0.5) & [s in illustrative_scens for s in runs_quantiles[\"scenario\"]], plotcols\n",
    "].T.plot(ax=ax)\n",
    "ax.legend(\n",
    "    runs_quantiles.loc[\n",
    "        (runs_quantiles[\"quantile\"]==0.5) & [s in illustrative_scens for s in runs_quantiles[\"scenario\"]], :\n",
    "    ].index, \n",
    "    illustrative_scens, \n",
    "    bbox_to_anchor=(1.05, 1)\n",
    ")"
   ]
  },
  {
   "cell_type": "code",
   "execution_count": 28,
   "id": "0abf8ffc",
   "metadata": {},
   "outputs": [
    {
     "data": {
      "text/plain": [
       "Int64Index([3762, 4188, 4377, 4427], dtype='int64')"
      ]
     },
     "execution_count": 28,
     "metadata": {},
     "output_type": "execute_result"
    }
   ],
   "source": [
    "runs_quantiles.loc[(runs_quantiles[\"quantile\"]==0.5) & [s in illustrative_scens for s in runs_quantiles[\"scenario\"]], :].index"
   ]
  },
  {
   "cell_type": "code",
   "execution_count": 29,
   "id": "a83d269b",
   "metadata": {},
   "outputs": [
    {
     "data": {
      "text/plain": [
       "Index(['climate_model', 'model', 'region', 'scenario', 'unit', 'variable',\n",
       "       'quantile', '2010', '2011', '2012',\n",
       "       ...\n",
       "       '2291', '2292', '2293', '2294', '2295', '2296', '2297', '2298', '2299',\n",
       "       '2300'],\n",
       "      dtype='object', length=298)"
      ]
     },
     "execution_count": 29,
     "metadata": {},
     "output_type": "execute_result"
    }
   ],
   "source": [
    "runs_quantiles.columns"
   ]
  }
 ],
 "metadata": {
  "kernelspec": {
   "display_name": "silicone-1",
   "language": "python",
   "name": "silicone-1"
  },
  "language_info": {
   "codemirror_mode": {
    "name": "ipython",
    "version": 3
   },
   "file_extension": ".py",
   "mimetype": "text/x-python",
   "name": "python",
   "nbconvert_exporter": "python",
   "pygments_lexer": "ipython3",
   "version": "3.7.11"
  }
 },
 "nbformat": 4,
 "nbformat_minor": 5
}
