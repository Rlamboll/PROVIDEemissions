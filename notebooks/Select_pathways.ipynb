{
 "cells": [
  {
   "cell_type": "code",
   "execution_count": 1,
   "id": "30d76c67",
   "metadata": {},
   "outputs": [
    {
     "data": {
      "application/javascript": [
       "IPython.OutputArea.prototype._should_scroll = function(lines) { return false; }"
      ],
      "text/plain": [
       "<IPython.core.display.Javascript object>"
      ]
     },
     "metadata": {},
     "output_type": "display_data"
    }
   ],
   "source": [
    "import matplotlib.pyplot as plt\n",
    "import numpy as np\n",
    "import os\n",
    "import pandas as pd\n",
    "import pyam\n",
    "import pymagicc\n",
    "import scmdata\n",
    "import silicone.multiple_infillers as mi\n",
    "import sys"
   ]
  },
  {
   "cell_type": "code",
   "execution_count": 2,
   "id": "f9b67c87",
   "metadata": {},
   "outputs": [],
   "source": [
    "sys.path.insert(0, '..')"
   ]
  },
  {
   "cell_type": "code",
   "execution_count": 3,
   "id": "ffc9fab1",
   "metadata": {},
   "outputs": [],
   "source": [
    "import scripts.utils"
   ]
  },
  {
   "cell_type": "code",
   "execution_count": 4,
   "id": "9560c4c4",
   "metadata": {
    "scrolled": true
   },
   "outputs": [
    {
     "name": "stderr",
     "output_type": "stream",
     "text": [
      "pyam - INFO: Running in a notebook, setting up a basic logging at level INFO\n",
      "pyam.core - INFO: Reading file ..\\input\\complete_sr15_emissions.csv\n"
     ]
    }
   ],
   "source": [
    "sr15 = pyam.IamDataFrame(\"..\\input\\complete_sr15_emissions.csv\").filter(region=\"World\")"
   ]
  },
  {
   "cell_type": "code",
   "execution_count": 5,
   "id": "c40008a4",
   "metadata": {},
   "outputs": [
    {
     "name": "stderr",
     "output_type": "stream",
     "text": [
      "pyam.core - INFO: Reading file ..\\input\\rcmip-emissions-annual-means-v5-1-0.csv\n"
     ]
    }
   ],
   "source": [
    "rcmip = pyam.IamDataFrame(\"../input/rcmip-emissions-annual-means-v5-1-0.csv\")"
   ]
  },
  {
   "cell_type": "code",
   "execution_count": 6,
   "id": "a46965fe",
   "metadata": {},
   "outputs": [
    {
     "data": {
      "text/plain": [
       "['REMIND-MAGPIE']"
      ]
     },
     "execution_count": 6,
     "metadata": {},
     "output_type": "execute_result"
    }
   ],
   "source": [
    "rcmip.filter(scenario=\"ssp534-over\").model"
   ]
  },
  {
   "cell_type": "code",
   "execution_count": 7,
   "id": "b211824c",
   "metadata": {},
   "outputs": [],
   "source": [
    "version = \"v5\"\n",
    "outdir = f'../output/chosen_files/{version}/'\n",
    "scen_file = outdir + \"scen_{}\"\n",
    "if not os.path.exists(outdir):\n",
    "    os.makedirs(outdir)"
   ]
  },
  {
   "cell_type": "code",
   "execution_count": 8,
   "id": "3317f26a",
   "metadata": {},
   "outputs": [
    {
     "name": "stderr",
     "output_type": "stream",
     "text": [
      "pyam.core - INFO: No scenarios satisfy the criteria\n",
      "pyam.core - INFO: No scenarios satisfy the criteria\n"
     ]
    }
   ],
   "source": [
    "med_temp = 'AR5 climate diagnostics|Temperature|Global Mean|MAGICC6|MED'\n",
    "sr15.set_meta(meta='uncategorized', name='warming_category')\n",
    "sr15.categorize(\n",
    "    'warming_category', 'below 1.6C',\n",
    "    criteria={med_temp: {'up': 1.6, 'lo': 1.5, 'year': 2100}},\n",
    "    color='xkcd:blue'\n",
    ")\n",
    "sr15.categorize(\n",
    "    'warming_category', 'below 1.5C',\n",
    "    criteria={med_temp: {'up': 1.5, 'year': 2100}},\n",
    "    color='xkcd:baby blue'\n",
    ")"
   ]
  },
  {
   "cell_type": "code",
   "execution_count": 9,
   "id": "1deee2d1",
   "metadata": {},
   "outputs": [
    {
     "name": "stderr",
     "output_type": "stream",
     "text": [
      "pyam.core - WARNING: Filtered IamDataFrame is empty!\n"
     ]
    }
   ],
   "source": [
    "peak = 'peak_temperature'\n",
    "sr15.set_meta_from_data(name=peak, variable=med_temp, method=np.max)"
   ]
  },
  {
   "cell_type": "code",
   "execution_count": 10,
   "id": "4f6fab86",
   "metadata": {},
   "outputs": [
    {
     "name": "stderr",
     "output_type": "stream",
     "text": [
      "pyam.core - WARNING: Filtered IamDataFrame is empty!\n"
     ]
    },
    {
     "data": {
      "text/plain": [
       "<class 'pyam.core.IamDataFrame'>\n",
       "Index:\n",
       " * model    : (0)\n",
       " * scenario : (0)\n",
       "Timeseries data coordinates:\n",
       "   region   : (0)\n",
       "   variable : (0)\n",
       "   unit     : (0)\n",
       "   year     : (0)\n",
       "Meta indicators:\n",
       "   exclude (bool) (0)\n",
       "   warming_category (object) (0)\n",
       "   peak_temperature (object) (0)"
      ]
     },
     "execution_count": 10,
     "metadata": {},
     "output_type": "execute_result"
    }
   ],
   "source": [
    "sr15.filter(\n",
    "    peak_temperature=[x for x in sr15.meta.peak_temperature if x < 2 and x > 1.8], scenario=\"SSP*\"\n",
    ")"
   ]
  },
  {
   "cell_type": "code",
   "execution_count": 11,
   "id": "5a9467fd",
   "metadata": {},
   "outputs": [
    {
     "data": {
      "text/plain": [
       "['AIM/CGE 2.0',\n",
       " 'GCAM 4.2',\n",
       " 'IMAGE 3.0.1',\n",
       " 'MESSAGE-GLOBIOM 1.0',\n",
       " 'REMIND-MAgPIE 1.5',\n",
       " 'WITCH-GLOBIOM 3.1']"
      ]
     },
     "execution_count": 11,
     "metadata": {},
     "output_type": "execute_result"
    }
   ],
   "source": [
    "sr15.filter(scenario=\"SSP*\").model"
   ]
  },
  {
   "cell_type": "code",
   "execution_count": 12,
   "id": "d86b29a1",
   "metadata": {},
   "outputs": [
    {
     "data": {
      "text/plain": [
       "['esm-bell-1000PgC',\n",
       " 'esm-bell-2000PgC',\n",
       " 'esm-bell-750PgC',\n",
       " 'esm-pi-CO2pulse',\n",
       " 'esm-pi-cdr-pulse',\n",
       " 'esm-piControl',\n",
       " 'historical',\n",
       " 'historical-cmip5',\n",
       " 'rcp26',\n",
       " 'rcp45',\n",
       " 'rcp60',\n",
       " 'rcp85',\n",
       " 'ssp119',\n",
       " 'ssp126',\n",
       " 'ssp245',\n",
       " 'ssp370',\n",
       " 'ssp370-lowNTCF-aerchemmip',\n",
       " 'ssp370-lowNTCF-gidden',\n",
       " 'ssp434',\n",
       " 'ssp460',\n",
       " 'ssp534-over',\n",
       " 'ssp585']"
      ]
     },
     "execution_count": 12,
     "metadata": {},
     "output_type": "execute_result"
    }
   ],
   "source": [
    "rcmip.scenario"
   ]
  },
  {
   "cell_type": "code",
   "execution_count": 13,
   "id": "5a3e91de",
   "metadata": {},
   "outputs": [
    {
     "data": {
      "text/plain": [
       "<class 'pyam.core.IamDataFrame'>\n",
       "Index:\n",
       " * model       : IMAGE (1)\n",
       " * scenario    : ssp119 (1)\n",
       "Timeseries data coordinates:\n",
       "   region      : World, World|R5.2ASIA, World|R5.2LAM, ... World|R5.2REF (6)\n",
       "   variable    : Emissions|BC, ... (182)\n",
       "   unit        : Mt BC/yr, Mt CH4/yr, Mt CO/yr, Mt CO2/yr, ... kt cC4F8/yr (51)\n",
       "   year        : 1750, 1751, 1752, 1753, 1754, 1755, 1756, 1757, ... 2500 (315)\n",
       "   mip_era     : CMIP6 (1)\n",
       "   activity_id : not_applicable (1)\n",
       "Meta indicators:\n",
       "   exclude (bool) False (1)"
      ]
     },
     "execution_count": 13,
     "metadata": {},
     "output_type": "execute_result"
    }
   ],
   "source": [
    "rcmip.filter(scenario=\"ssp119\")"
   ]
  },
  {
   "cell_type": "code",
   "execution_count": 45,
   "id": "7a94008b",
   "metadata": {},
   "outputs": [],
   "source": [
    "desired_scenarios = []\n",
    "desired_scenarios.append(rcmip.filter(model=\"REMIND-MAGPIE\", scenario=\"ssp534-over\"))\n",
    "desired_scenarios.append(rcmip.filter(model=\"IMAGE\", scenario=\"ssp119\"))"
   ]
  },
  {
   "cell_type": "code",
   "execution_count": 54,
   "id": "8ed8fb18",
   "metadata": {},
   "outputs": [],
   "source": [
    "df = pyam.concat(desired_scenarios).filter(region=\"World\", variable=\"Emissions*\")"
   ]
  },
  {
   "cell_type": "markdown",
   "id": "4b03ec02",
   "metadata": {},
   "source": [
    "# Infill the missing emissions"
   ]
  },
  {
   "cell_type": "code",
   "execution_count": 55,
   "id": "7770c449",
   "metadata": {},
   "outputs": [],
   "source": [
    "df = df.data\n",
    "del df[\"activity_id\"]\n",
    "del df[\"mip_era\"]"
   ]
  },
  {
   "cell_type": "code",
   "execution_count": 56,
   "id": "cd29a561",
   "metadata": {},
   "outputs": [],
   "source": [
    "df[\"variable\"] = df[\"variable\"].str.replace(\"MAGICC AFOLU\", \"AFOLU\").replace(\n",
    "    \"MAGICC Fossil and Industrial\", \"Energy and Industrial Processes\"\n",
    ")"
   ]
  },
  {
   "cell_type": "code",
   "execution_count": 57,
   "id": "036e5082",
   "metadata": {},
   "outputs": [],
   "source": [
    "df = pyam.IamDataFrame(df)"
   ]
  },
  {
   "cell_type": "code",
   "execution_count": 59,
   "id": "665bcd84",
   "metadata": {},
   "outputs": [],
   "source": [
    "missing_emissions = [\n",
    "    'Emissions|PFC|C2F6', 'Emissions|HFC|HFC43-10', 'Emissions|PFC|C6F14', 'Emissions|HFC|HFC125', \n",
    "    'Emissions|HFC|HFC32', 'Emissions|HFC|HFC143a', 'Emissions|HFC|HFC245fa', 'Emissions|HFC|HFC23', \n",
    "    'Emissions|HFC|HFC134a', 'Emissions|SF6', 'Emissions|PFC|CF4', 'Emissions|HFC|HFC227ea', \n",
    "]\n",
    "leader = \"Emissions|CO2\"\n",
    "cent = [y for y in df.year if y<=2100 and y > 2000]\n",
    "infillee_df = df.filter(year=cent, variable=leader)"
   ]
  },
  {
   "cell_type": "code",
   "execution_count": 60,
   "id": "c4864288",
   "metadata": {},
   "outputs": [],
   "source": [
    "for em in missing_emissions:\n",
    "    is_empty = sr15.filter(region=\"World\", variable=em).empty\n",
    "    if is_empty:\n",
    "        print(em)"
   ]
  },
  {
   "cell_type": "code",
   "execution_count": 61,
   "id": "b66e46d2",
   "metadata": {},
   "outputs": [
    {
     "name": "stderr",
     "output_type": "stream",
     "text": [
      "Filling required variables: 100%|██████████████████████████████████████████████████████| 12/12 [00:01<00:00,  6.88it/s]\n"
     ]
    }
   ],
   "source": [
    "infilled_df = mi.infill_all_required_variables(\n",
    "    infillee_df.filter(year=cent), \n",
    "    sr15.filter(region=\"World\", year=cent), [leader], \n",
    "    required_variables_list=missing_emissions\n",
    ")"
   ]
  },
  {
   "cell_type": "code",
   "execution_count": 62,
   "id": "22139a36",
   "metadata": {},
   "outputs": [],
   "source": [
    "df = infilled_df.append(df.filter(variable=\"Emissions|CO2\", keep=False))"
   ]
  },
  {
   "cell_type": "code",
   "execution_count": 72,
   "id": "14054a3a",
   "metadata": {},
   "outputs": [],
   "source": [
    "normal_years = [2015] + list(np.arange(2020, 2101, 10))\n",
    "normal_years\n",
    "bad_vars = [\n",
    "    \"*Sulfur|*\", \"*|BC|*\", \"*CH4|*\", \"Emissions|Montreal Gases|*\", \"Emissions|VOC|*\", \n",
    "    \"Emissions|NH3|*\", \"Emissions|NOx|*\", \"Emissions|OC|*\", \"Emissions|CO|*\", \n",
    "]"
   ]
  },
  {
   "cell_type": "code",
   "execution_count": 73,
   "id": "302241f7",
   "metadata": {},
   "outputs": [
    {
     "name": "stderr",
     "output_type": "stream",
     "text": [
      "pyam.utils - WARNING: Formatted data is empty!\n",
      "pyam.utils - WARNING: Formatted data is empty!\n"
     ]
    }
   ],
   "source": [
    "for scenario in df.scenario:\n",
    "    scripts.utils.construct_scen_file(\n",
    "        df.filter(scenario=scenario, variable=\"Emissions|*\", year=normal_years).filter(\n",
    "            variable=bad_vars, keep=False\n",
    "        ), \n",
    "        scen_file.format(scenario)\n",
    "    )"
   ]
  }
 ],
 "metadata": {
  "kernelspec": {
   "display_name": "silicone-1",
   "language": "python",
   "name": "silicone-1"
  },
  "language_info": {
   "codemirror_mode": {
    "name": "ipython",
    "version": 3
   },
   "file_extension": ".py",
   "mimetype": "text/x-python",
   "name": "python",
   "nbconvert_exporter": "python",
   "pygments_lexer": "ipython3",
   "version": "3.7.11"
  }
 },
 "nbformat": 4,
 "nbformat_minor": 5
}
