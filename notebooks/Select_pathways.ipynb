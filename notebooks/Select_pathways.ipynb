{
 "cells": [
  {
   "cell_type": "code",
   "execution_count": 1,
   "id": "30d76c67",
   "metadata": {},
   "outputs": [
    {
     "data": {
      "application/javascript": [
       "IPython.OutputArea.prototype._should_scroll = function(lines) { return false; }"
      ],
      "text/plain": [
       "<IPython.core.display.Javascript object>"
      ]
     },
     "metadata": {},
     "output_type": "display_data"
    }
   ],
   "source": [
    "import matplotlib.pyplot as plt\n",
    "import numpy as np\n",
    "import os\n",
    "import pandas as pd\n",
    "import pyam\n",
    "import silicone.multiple_infillers as mi\n",
    "import silicone.database_crunchers as dc\n",
    "import sys"
   ]
  },
  {
   "cell_type": "code",
   "execution_count": 2,
   "id": "b211824c",
   "metadata": {},
   "outputs": [],
   "source": [
    "version = \"v6\"\n",
    "co2 = \"Emissions|CO2\"\n",
    "ch4 = \"Emissions|CH4\"\n",
    "outdir = f'../output/chosen_files/{version}/'\n",
    "scen_file = outdir + \"scen_{}\"\n",
    "if not os.path.exists(outdir):\n",
    "    os.makedirs(outdir)"
   ]
  },
  {
   "cell_type": "code",
   "execution_count": 3,
   "id": "e9eef9cd",
   "metadata": {},
   "outputs": [],
   "source": [
    "sys.path.insert(0, '..')"
   ]
  },
  {
   "cell_type": "code",
   "execution_count": 4,
   "id": "ae5f5250",
   "metadata": {},
   "outputs": [],
   "source": [
    "import scripts.utils"
   ]
  },
  {
   "cell_type": "code",
   "execution_count": 5,
   "id": "b00c1f30",
   "metadata": {},
   "outputs": [
    {
     "name": "stderr",
     "output_type": "stream",
     "text": [
      "pyam - INFO: Running in a notebook, setting up a basic logging at level INFO\n",
      "pyam.core - INFO: Reading file ..\\input\\AR6_Scenarios_Database_World_v1.0_emissions.csv\n"
     ]
    }
   ],
   "source": [
    "ar6 = pyam.IamDataFrame(\"..\\input\\AR6_Scenarios_Database_World_v1.0_emissions.csv\")"
   ]
  },
  {
   "cell_type": "code",
   "execution_count": 6,
   "id": "80c4f42e",
   "metadata": {},
   "outputs": [],
   "source": [
    "ar6_meta = pd.read_excel(\n",
    "    \"..\\input\\AR6_Scenarios_Database_metadata_indicators_v1.0.xlsx\", \n",
    "    sheet_name=\"Illustrative_Pathways\"\n",
    ")"
   ]
  },
  {
   "cell_type": "code",
   "execution_count": 7,
   "id": "9b617e41",
   "metadata": {},
   "outputs": [],
   "source": [
    "cent = [2010, 2015] + list(np.arange(2020, 2101, 10))\n",
    "ar6_meta = ar6_meta.iloc[[x[-3:] != \"2.0\" for x in ar6_meta[\"IMP_marker\"]]]"
   ]
  },
  {
   "cell_type": "code",
   "execution_count": 8,
   "id": "f28fdfc4",
   "metadata": {},
   "outputs": [
    {
     "data": {
      "text/html": [
       "<div>\n",
       "<style scoped>\n",
       "    .dataframe tbody tr th:only-of-type {\n",
       "        vertical-align: middle;\n",
       "    }\n",
       "\n",
       "    .dataframe tbody tr th {\n",
       "        vertical-align: top;\n",
       "    }\n",
       "\n",
       "    .dataframe thead th {\n",
       "        text-align: right;\n",
       "    }\n",
       "</style>\n",
       "<table border=\"1\" class=\"dataframe\">\n",
       "  <thead>\n",
       "    <tr style=\"text-align: right;\">\n",
       "      <th></th>\n",
       "      <th></th>\n",
       "      <th>IMP_marker</th>\n",
       "      <th>IMP_notes</th>\n",
       "      <th>IMP_reference</th>\n",
       "    </tr>\n",
       "    <tr>\n",
       "      <th>model</th>\n",
       "      <th>scenario</th>\n",
       "      <th></th>\n",
       "      <th></th>\n",
       "      <th></th>\n",
       "    </tr>\n",
       "  </thead>\n",
       "  <tbody>\n",
       "    <tr>\n",
       "      <th>COFFEE 1.1</th>\n",
       "      <th>EN_NPi2020_400f_lowBECCS</th>\n",
       "      <td>Neg</td>\n",
       "      <td>NaN</td>\n",
       "      <td>NGFS Climate Scenarios for central banks and s...</td>\n",
       "    </tr>\n",
       "    <tr>\n",
       "      <th>GCAM 5.3</th>\n",
       "      <th>NGFS2_Current Policies</th>\n",
       "      <td>CurPol</td>\n",
       "      <td>NaN</td>\n",
       "      <td>https://doi.org/10.1038/s41560-018-0172-6</td>\n",
       "    </tr>\n",
       "    <tr>\n",
       "      <th>IMAGE 3.0</th>\n",
       "      <th>EN_INDCi2030_3000f</th>\n",
       "      <td>ModAct</td>\n",
       "      <td>NaN</td>\n",
       "      <td>https://doi.org/10.1038/s41558-021-01215-2</td>\n",
       "    </tr>\n",
       "    <tr>\n",
       "      <th>MESSAGEix-GLOBIOM 1.0</th>\n",
       "      <th>LowEnergyDemand_1.3_IPCC</th>\n",
       "      <td>LD</td>\n",
       "      <td>Scenario name has a whitespace at the end - to...</td>\n",
       "      <td>https://doi.org/10.1038/s41558-021-01215-2</td>\n",
       "    </tr>\n",
       "    <tr>\n",
       "      <th>REMIND-MAgPIE 2.1-4.3</th>\n",
       "      <th>DeepElec_SSP2_ HighRE_Budg900</th>\n",
       "      <td>Ren</td>\n",
       "      <td>NaN</td>\n",
       "      <td>https://doi.org/10.1038/s41560-021-00937-z</td>\n",
       "    </tr>\n",
       "    <tr>\n",
       "      <th>REMIND-MAgPIE 2.1-4.2</th>\n",
       "      <th>SusDev_SDP-PkBudg1000</th>\n",
       "      <td>SP</td>\n",
       "      <td>NaN</td>\n",
       "      <td>Guo, F., van Ruijven, B., Zakeri, B., Krey, V....</td>\n",
       "    </tr>\n",
       "    <tr>\n",
       "      <th>WITCH 5.0</th>\n",
       "      <th>CO_Bridge</th>\n",
       "      <td>GS</td>\n",
       "      <td>NaN</td>\n",
       "      <td>https://doi.org/10.1038/s41558-021-01098-3</td>\n",
       "    </tr>\n",
       "  </tbody>\n",
       "</table>\n",
       "</div>"
      ],
      "text/plain": [
       "                                                    IMP_marker  \\\n",
       "model                 scenario                                   \n",
       "COFFEE 1.1            EN_NPi2020_400f_lowBECCS             Neg   \n",
       "GCAM 5.3              NGFS2_Current Policies            CurPol   \n",
       "IMAGE 3.0             EN_INDCi2030_3000f                ModAct   \n",
       "MESSAGEix-GLOBIOM 1.0 LowEnergyDemand_1.3_IPCC              LD   \n",
       "REMIND-MAgPIE 2.1-4.3 DeepElec_SSP2_ HighRE_Budg900        Ren   \n",
       "REMIND-MAgPIE 2.1-4.2 SusDev_SDP-PkBudg1000                 SP   \n",
       "WITCH 5.0             CO_Bridge                             GS   \n",
       "\n",
       "                                                                                             IMP_notes  \\\n",
       "model                 scenario                                                                           \n",
       "COFFEE 1.1            EN_NPi2020_400f_lowBECCS                                                     NaN   \n",
       "GCAM 5.3              NGFS2_Current Policies                                                       NaN   \n",
       "IMAGE 3.0             EN_INDCi2030_3000f                                                           NaN   \n",
       "MESSAGEix-GLOBIOM 1.0 LowEnergyDemand_1.3_IPCC       Scenario name has a whitespace at the end - to...   \n",
       "REMIND-MAgPIE 2.1-4.3 DeepElec_SSP2_ HighRE_Budg900                                                NaN   \n",
       "REMIND-MAgPIE 2.1-4.2 SusDev_SDP-PkBudg1000                                                        NaN   \n",
       "WITCH 5.0             CO_Bridge                                                                    NaN   \n",
       "\n",
       "                                                                                         IMP_reference  \n",
       "model                 scenario                                                                          \n",
       "COFFEE 1.1            EN_NPi2020_400f_lowBECCS       NGFS Climate Scenarios for central banks and s...  \n",
       "GCAM 5.3              NGFS2_Current Policies                 https://doi.org/10.1038/s41560-018-0172-6  \n",
       "IMAGE 3.0             EN_INDCi2030_3000f                    https://doi.org/10.1038/s41558-021-01215-2  \n",
       "MESSAGEix-GLOBIOM 1.0 LowEnergyDemand_1.3_IPCC              https://doi.org/10.1038/s41558-021-01215-2  \n",
       "REMIND-MAgPIE 2.1-4.3 DeepElec_SSP2_ HighRE_Budg900         https://doi.org/10.1038/s41560-021-00937-z  \n",
       "REMIND-MAgPIE 2.1-4.2 SusDev_SDP-PkBudg1000          Guo, F., van Ruijven, B., Zakeri, B., Krey, V....  \n",
       "WITCH 5.0             CO_Bridge                             https://doi.org/10.1038/s41558-021-01098-3  "
      ]
     },
     "execution_count": 8,
     "metadata": {},
     "output_type": "execute_result"
    }
   ],
   "source": [
    "ar6_meta = ar6_meta.set_index([\"model\", \"scenario\"])\n",
    "ar6_meta"
   ]
  },
  {
   "cell_type": "code",
   "execution_count": 9,
   "id": "3d252324",
   "metadata": {},
   "outputs": [],
   "source": [
    "ar6.set_meta(ar6_meta[\"IMP_marker\"])"
   ]
  },
  {
   "cell_type": "code",
   "execution_count": 10,
   "id": "39a8ade4",
   "metadata": {},
   "outputs": [
    {
     "data": {
      "text/plain": [
       "<class 'pyam.core.IamDataFrame'>\n",
       "Index:\n",
       " * model    : COFFEE 1.1, GCAM 5.3, IMAGE 3.0, ... WITCH 5.0 (7)\n",
       " * scenario : EN_NPi2020_400f_lowBECCS, NGFS2_Current Policies, ... CO_Bridge (7)\n",
       "Timeseries data coordinates:\n",
       "   region   : World (1)\n",
       "   variable : Emissions|CH4, Emissions|CH4|AFOLU, ... Emissions|CO2|Energy|Demand|AFOFI (130)\n",
       "   unit     : Mt CH4/yr, Mt CO2/yr, Mt CO2-equiv/yr, kt N2O/yr, ... kt C6F14/yr (25)\n",
       "   year     : 2010, 2015, 2020, 2025, 2030, 2035, 2040, 2045, ... 2005 (20)\n",
       "Meta indicators:\n",
       "   exclude (bool) False (1)\n",
       "   IMP_marker (object) Neg, CurPol, ModAct, LD, SP, Ren, GS (7)"
      ]
     },
     "execution_count": 10,
     "metadata": {},
     "output_type": "execute_result"
    }
   ],
   "source": [
    "imp_scen = ar6.filter(IMP_marker=ar6_meta.IMP_marker)\n",
    "imp_scen"
   ]
  },
  {
   "cell_type": "code",
   "execution_count": 11,
   "id": "a4955cdb",
   "metadata": {},
   "outputs": [
    {
     "data": {
      "text/plain": [
       "<matplotlib.legend.Legend at 0x247ba94dd08>"
      ]
     },
     "execution_count": 11,
     "metadata": {},
     "output_type": "execute_result"
    },
    {
     "data": {
      "image/png": "[encoded data removed]",
      "text/plain": [
       "<Figure size 432x288 with 1 Axes>"
      ]
     },
     "metadata": {
      "needs_background": "light"
     },
     "output_type": "display_data"
    }
   ],
   "source": [
    "imp_scen.filter(variable=co2).plot()\n",
    "plt.legend(bbox_to_anchor=(1.05, 1))"
   ]
  },
  {
   "cell_type": "code",
   "execution_count": 12,
   "id": "1c335d86",
   "metadata": {},
   "outputs": [
    {
     "data": {
      "text/plain": [
       "<matplotlib.legend.Legend at 0x247921376c8>"
      ]
     },
     "execution_count": 12,
     "metadata": {},
     "output_type": "execute_result"
    },
    {
     "data": {
      "image/png": "[encoded data removed]",
      "text/plain": [
       "<Figure size 432x288 with 1 Axes>"
      ]
     },
     "metadata": {
      "needs_background": "light"
     },
     "output_type": "display_data"
    }
   ],
   "source": [
    "imp_scen.filter(variable=ch4).plot()\n",
    "plt.legend(bbox_to_anchor=(1.05, 1))"
   ]
  },
  {
   "cell_type": "code",
   "execution_count": 13,
   "id": "c40008a4",
   "metadata": {},
   "outputs": [
    {
     "name": "stderr",
     "output_type": "stream",
     "text": [
      "pyam.core - INFO: Reading file ..\\input\\rcmip-emissions-annual-means-v5-1-0.csv\n"
     ]
    }
   ],
   "source": [
    "rcmip = pyam.IamDataFrame(\"../input/rcmip-emissions-annual-means-v5-1-0.csv\")"
   ]
  },
  {
   "cell_type": "code",
   "execution_count": 14,
   "id": "5f26239c",
   "metadata": {},
   "outputs": [
    {
     "data": {
      "text/plain": [
       "<AxesSubplot:title={'center':'model: MESSAGE-GLOBIOM - scenario: ssp245 - region: World - variable: Emissions|CO2 - mip_era: CMIP6 - activity_id: not_applicable'}, xlabel='Year', ylabel='Mt CO2/yr'>"
      ]
     },
     "execution_count": 14,
     "metadata": {},
     "output_type": "execute_result"
    },
    {
     "data": {
      "image/png": "[encoded data removed]",
      "text/plain": [
       "<Figure size 432x288 with 1 Axes>"
      ]
     },
     "metadata": {
      "needs_background": "light"
     },
     "output_type": "display_data"
    }
   ],
   "source": [
    "rcmip.filter(scenario=\"ssp245\", variable=co2, region=\"World\").plot()"
   ]
  },
  {
   "cell_type": "code",
   "execution_count": 15,
   "id": "5a3e91de",
   "metadata": {},
   "outputs": [
    {
     "data": {
      "text/plain": [
       "<class 'pyam.core.IamDataFrame'>\n",
       "Index:\n",
       " * model       : IMAGE (1)\n",
       " * scenario    : ssp119 (1)\n",
       "Timeseries data coordinates:\n",
       "   region      : World, World|R5.2ASIA, World|R5.2LAM, ... World|R5.2REF (6)\n",
       "   variable    : Emissions|BC, ... (182)\n",
       "   unit        : Mt BC/yr, Mt CH4/yr, Mt CO/yr, Mt CO2/yr, ... kt cC4F8/yr (51)\n",
       "   year        : 1750, 1751, 1752, 1753, 1754, 1755, 1756, 1757, ... 2500 (315)\n",
       "   mip_era     : CMIP6 (1)\n",
       "   activity_id : not_applicable (1)\n",
       "Meta indicators:\n",
       "   exclude (bool) False (1)"
      ]
     },
     "execution_count": 15,
     "metadata": {},
     "output_type": "execute_result"
    }
   ],
   "source": [
    "rcmip.filter(scenario=\"ssp119\")"
   ]
  },
  {
   "cell_type": "code",
   "execution_count": 16,
   "id": "bec7fbee",
   "metadata": {},
   "outputs": [],
   "source": [
    "useful_years = [y for y in rcmip.year if y>2000]"
   ]
  },
  {
   "cell_type": "code",
   "execution_count": 17,
   "id": "7a94008b",
   "metadata": {},
   "outputs": [],
   "source": [
    "desired_scenarios = [\n",
    "    rcmip.filter(model=\"REMIND-MAGPIE\", scenario=\"ssp534-over\", region=\"World\", year=useful_years),\n",
    "    rcmip.filter(model=\"IMAGE\", scenario=\"ssp119\", region=\"World\", year=useful_years),\n",
    "]"
   ]
  },
  {
   "cell_type": "markdown",
   "id": "307fe498",
   "metadata": {},
   "source": [
    "# Harmonise the emissions\n",
    "Unfortunately we don't have history from 2015, so we use SSP2-4.5 instead"
   ]
  },
  {
   "cell_type": "code",
   "execution_count": 18,
   "id": "a3352930",
   "metadata": {},
   "outputs": [],
   "source": [
    "required_variables_list = [\n",
    "            \"Emissions|BC\",\n",
    "            \"Emissions|PFC|CF4\",\n",
    "            \"Emissions|PFC|C2F6\",\n",
    "            \"Emissions|PFC|C6F14\",\n",
    "            \"Emissions|CH4\",\n",
    "            \"Emissions|CO2|AFOLU\",\n",
    "            \"Emissions|CO2|Energy and Industrial Processes\",\n",
    "            \"Emissions|CO\",\n",
    "            \"Emissions|HFC|HFC134a\",\n",
    "            \"Emissions|HFC|HFC143a\",\n",
    "            \"Emissions|HFC|HFC227ea\",\n",
    "            \"Emissions|HFC|HFC23\",\n",
    "            \"Emissions|HFC|HFC32\",\n",
    "            \"Emissions|HFC|HFC43-10\",\n",
    "            \"Emissions|HFC|HFC245ca\",\n",
    "            \"Emissions|HFC|HFC125\",\n",
    "            \"Emissions|N2O\",\n",
    "            \"Emissions|NH3\",\n",
    "            \"Emissions|NOx\",\n",
    "            \"Emissions|OC\",\n",
    "            \"Emissions|SF6\",\n",
    "            \"Emissions|Sulfur\",\n",
    "            \"Emissions|VOC\",\n",
    "        ]"
   ]
  },
  {
   "cell_type": "code",
   "execution_count": 19,
   "id": "325f5239",
   "metadata": {},
   "outputs": [],
   "source": [
    "extra_var = [co2, \"Emissions|F-Gases\"]\n",
    "ar6 = ar6.filter(variable=required_variables_list + extra_var, year=cent)"
   ]
  },
  {
   "cell_type": "code",
   "execution_count": 20,
   "id": "3cd4c151",
   "metadata": {},
   "outputs": [],
   "source": [
    "ar6 = ar6.interpolate(2015)"
   ]
  },
  {
   "cell_type": "code",
   "execution_count": 21,
   "id": "5abe9437",
   "metadata": {},
   "outputs": [
    {
     "data": {
      "text/html": [
       "<div>\n",
       "<style scoped>\n",
       "    .dataframe tbody tr th:only-of-type {\n",
       "        vertical-align: middle;\n",
       "    }\n",
       "\n",
       "    .dataframe tbody tr th {\n",
       "        vertical-align: top;\n",
       "    }\n",
       "\n",
       "    .dataframe thead th {\n",
       "        text-align: right;\n",
       "    }\n",
       "</style>\n",
       "<table border=\"1\" class=\"dataframe\">\n",
       "  <thead>\n",
       "    <tr style=\"text-align: right;\">\n",
       "      <th></th>\n",
       "      <th></th>\n",
       "      <th></th>\n",
       "      <th></th>\n",
       "      <th></th>\n",
       "      <th>2010</th>\n",
       "      <th>2015</th>\n",
       "      <th>2020</th>\n",
       "      <th>2030</th>\n",
       "      <th>2040</th>\n",
       "      <th>2050</th>\n",
       "      <th>2060</th>\n",
       "      <th>2070</th>\n",
       "      <th>2080</th>\n",
       "      <th>2090</th>\n",
       "      <th>2100</th>\n",
       "    </tr>\n",
       "    <tr>\n",
       "      <th>model</th>\n",
       "      <th>scenario</th>\n",
       "      <th>region</th>\n",
       "      <th>variable</th>\n",
       "      <th>unit</th>\n",
       "      <th></th>\n",
       "      <th></th>\n",
       "      <th></th>\n",
       "      <th></th>\n",
       "      <th></th>\n",
       "      <th></th>\n",
       "      <th></th>\n",
       "      <th></th>\n",
       "      <th></th>\n",
       "      <th></th>\n",
       "      <th></th>\n",
       "    </tr>\n",
       "  </thead>\n",
       "  <tbody>\n",
       "    <tr>\n",
       "      <th rowspan=\"21\" valign=\"top\">MESSAGE-GLOBIOM 1.0</th>\n",
       "      <th rowspan=\"21\" valign=\"top\">SSP2-45</th>\n",
       "      <th rowspan=\"21\" valign=\"top\">World</th>\n",
       "      <th>Emissions|BC</th>\n",
       "      <th>Mt BC/yr</th>\n",
       "      <td>7.032940</td>\n",
       "      <td>6.491703</td>\n",
       "      <td>5.950466</td>\n",
       "      <td>5.587177</td>\n",
       "      <td>5.162646</td>\n",
       "      <td>4.620340</td>\n",
       "      <td>4.176487</td>\n",
       "      <td>3.639191</td>\n",
       "      <td>3.016475</td>\n",
       "      <td>2.425261</td>\n",
       "      <td>2.190230</td>\n",
       "    </tr>\n",
       "    <tr>\n",
       "      <th>Emissions|CH4</th>\n",
       "      <th>Mt CH4/yr</th>\n",
       "      <td>326.525263</td>\n",
       "      <td>331.179148</td>\n",
       "      <td>335.833033</td>\n",
       "      <td>346.649464</td>\n",
       "      <td>332.167726</td>\n",
       "      <td>312.466865</td>\n",
       "      <td>291.010623</td>\n",
       "      <td>280.754681</td>\n",
       "      <td>269.016869</td>\n",
       "      <td>261.733557</td>\n",
       "      <td>256.974134</td>\n",
       "    </tr>\n",
       "    <tr>\n",
       "      <th>Emissions|CO</th>\n",
       "      <th>Mt CO/yr</th>\n",
       "      <td>849.797615</td>\n",
       "      <td>817.693954</td>\n",
       "      <td>785.590293</td>\n",
       "      <td>765.839533</td>\n",
       "      <td>720.311669</td>\n",
       "      <td>655.682414</td>\n",
       "      <td>582.998181</td>\n",
       "      <td>519.461737</td>\n",
       "      <td>450.929872</td>\n",
       "      <td>389.051057</td>\n",
       "      <td>350.930869</td>\n",
       "    </tr>\n",
       "    <tr>\n",
       "      <th>Emissions|CO2</th>\n",
       "      <th>Mt CO2/yr</th>\n",
       "      <td>40294.293821</td>\n",
       "      <td>41289.611277</td>\n",
       "      <td>42284.928734</td>\n",
       "      <td>44385.654471</td>\n",
       "      <td>44491.570784</td>\n",
       "      <td>42832.156142</td>\n",
       "      <td>39042.389737</td>\n",
       "      <td>34193.217952</td>\n",
       "      <td>25823.818089</td>\n",
       "      <td>15468.528587</td>\n",
       "      <td>9115.046702</td>\n",
       "    </tr>\n",
       "    <tr>\n",
       "      <th>Emissions|CO2|AFOLU</th>\n",
       "      <th>Mt CO2/yr</th>\n",
       "      <td>7161.443786</td>\n",
       "      <td>6415.915892</td>\n",
       "      <td>5670.387997</td>\n",
       "      <td>4588.490119</td>\n",
       "      <td>3177.632881</td>\n",
       "      <td>682.209671</td>\n",
       "      <td>-1955.682705</td>\n",
       "      <td>-2630.631890</td>\n",
       "      <td>-3801.426053</td>\n",
       "      <td>-4559.450679</td>\n",
       "      <td>-4800.076969</td>\n",
       "    </tr>\n",
       "    <tr>\n",
       "      <th>Emissions|CO2|Energy and Industrial Processes</th>\n",
       "      <th>Mt CO2/yr</th>\n",
       "      <td>33132.850034</td>\n",
       "      <td>34873.695386</td>\n",
       "      <td>36614.540737</td>\n",
       "      <td>39797.164352</td>\n",
       "      <td>41313.937903</td>\n",
       "      <td>42149.946471</td>\n",
       "      <td>40998.072443</td>\n",
       "      <td>36823.849841</td>\n",
       "      <td>29625.244143</td>\n",
       "      <td>20027.979266</td>\n",
       "      <td>13915.123671</td>\n",
       "    </tr>\n",
       "    <tr>\n",
       "      <th>Emissions|F-Gases</th>\n",
       "      <th>Mt CO2-equiv/yr</th>\n",
       "      <td>733.216000</td>\n",
       "      <td>1113.405333</td>\n",
       "      <td>1493.594667</td>\n",
       "      <td>1536.747667</td>\n",
       "      <td>1431.976333</td>\n",
       "      <td>1270.137000</td>\n",
       "      <td>1342.876333</td>\n",
       "      <td>1391.100333</td>\n",
       "      <td>1410.486000</td>\n",
       "      <td>1444.149667</td>\n",
       "      <td>1371.912667</td>\n",
       "    </tr>\n",
       "    <tr>\n",
       "      <th>Emissions|HFC|HFC125</th>\n",
       "      <th>kt HFC125/yr</th>\n",
       "      <td>31.108948</td>\n",
       "      <td>81.899172</td>\n",
       "      <td>132.689396</td>\n",
       "      <td>158.728268</td>\n",
       "      <td>129.706747</td>\n",
       "      <td>89.216921</td>\n",
       "      <td>97.180861</td>\n",
       "      <td>102.901492</td>\n",
       "      <td>107.074236</td>\n",
       "      <td>111.041347</td>\n",
       "      <td>104.776828</td>\n",
       "    </tr>\n",
       "    <tr>\n",
       "      <th>Emissions|HFC|HFC134a</th>\n",
       "      <th>kt HFC134a/yr</th>\n",
       "      <td>153.603976</td>\n",
       "      <td>192.838013</td>\n",
       "      <td>232.072051</td>\n",
       "      <td>197.820914</td>\n",
       "      <td>183.772397</td>\n",
       "      <td>179.845758</td>\n",
       "      <td>185.485709</td>\n",
       "      <td>188.077636</td>\n",
       "      <td>188.207243</td>\n",
       "      <td>189.082975</td>\n",
       "      <td>178.484050</td>\n",
       "    </tr>\n",
       "    <tr>\n",
       "      <th>Emissions|HFC|HFC143a</th>\n",
       "      <th>kt HFC143a/yr</th>\n",
       "      <td>19.299299</td>\n",
       "      <td>37.845897</td>\n",
       "      <td>56.392496</td>\n",
       "      <td>72.624085</td>\n",
       "      <td>83.348765</td>\n",
       "      <td>90.704004</td>\n",
       "      <td>100.394846</td>\n",
       "      <td>107.772520</td>\n",
       "      <td>113.454058</td>\n",
       "      <td>118.841164</td>\n",
       "      <td>112.853031</td>\n",
       "    </tr>\n",
       "    <tr>\n",
       "      <th>Emissions|HFC|HFC227ea</th>\n",
       "      <th>kt HFC227ea/yr</th>\n",
       "      <td>2.364525</td>\n",
       "      <td>3.289658</td>\n",
       "      <td>4.214791</td>\n",
       "      <td>4.562358</td>\n",
       "      <td>4.703183</td>\n",
       "      <td>4.707034</td>\n",
       "      <td>4.599969</td>\n",
       "      <td>4.416699</td>\n",
       "      <td>4.204816</td>\n",
       "      <td>3.978423</td>\n",
       "      <td>3.761696</td>\n",
       "    </tr>\n",
       "    <tr>\n",
       "      <th>Emissions|HFC|HFC23</th>\n",
       "      <th>kt HFC23/yr</th>\n",
       "      <td>9.271299</td>\n",
       "      <td>5.679178</td>\n",
       "      <td>2.087057</td>\n",
       "      <td>1.360825</td>\n",
       "      <td>0.721546</td>\n",
       "      <td>0.429572</td>\n",
       "      <td>0.226584</td>\n",
       "      <td>0.111604</td>\n",
       "      <td>0.056457</td>\n",
       "      <td>0.000000</td>\n",
       "      <td>0.000000</td>\n",
       "    </tr>\n",
       "    <tr>\n",
       "      <th>Emissions|HFC|HFC32</th>\n",
       "      <th>kt HFC32/yr</th>\n",
       "      <td>14.785264</td>\n",
       "      <td>49.704608</td>\n",
       "      <td>84.623952</td>\n",
       "      <td>93.252108</td>\n",
       "      <td>51.445485</td>\n",
       "      <td>2.131292</td>\n",
       "      <td>3.280001</td>\n",
       "      <td>4.277385</td>\n",
       "      <td>5.084371</td>\n",
       "      <td>5.636202</td>\n",
       "      <td>5.685279</td>\n",
       "    </tr>\n",
       "    <tr>\n",
       "      <th>Emissions|HFC|HFC43-10</th>\n",
       "      <th>kt HFC43-10/yr</th>\n",
       "      <td>0.804910</td>\n",
       "      <td>0.868812</td>\n",
       "      <td>0.932715</td>\n",
       "      <td>0.995317</td>\n",
       "      <td>1.049821</td>\n",
       "      <td>1.095014</td>\n",
       "      <td>1.134145</td>\n",
       "      <td>1.165959</td>\n",
       "      <td>1.186476</td>\n",
       "      <td>1.193928</td>\n",
       "      <td>1.189336</td>\n",
       "    </tr>\n",
       "    <tr>\n",
       "      <th>Emissions|N2O</th>\n",
       "      <th>kt N2O/yr</th>\n",
       "      <td>8758.092223</td>\n",
       "      <td>9207.769528</td>\n",
       "      <td>9657.446832</td>\n",
       "      <td>10608.980481</td>\n",
       "      <td>11182.376737</td>\n",
       "      <td>11372.071058</td>\n",
       "      <td>11265.045507</td>\n",
       "      <td>10868.118845</td>\n",
       "      <td>9965.778937</td>\n",
       "      <td>9361.891171</td>\n",
       "      <td>8776.604443</td>\n",
       "    </tr>\n",
       "    <tr>\n",
       "      <th>Emissions|NH3</th>\n",
       "      <th>Mt NH3/yr</th>\n",
       "      <td>55.391078</td>\n",
       "      <td>52.149195</td>\n",
       "      <td>48.907312</td>\n",
       "      <td>52.915679</td>\n",
       "      <td>55.230967</td>\n",
       "      <td>55.558188</td>\n",
       "      <td>54.612257</td>\n",
       "      <td>52.417313</td>\n",
       "      <td>49.918622</td>\n",
       "      <td>47.652420</td>\n",
       "      <td>45.776741</td>\n",
       "    </tr>\n",
       "    <tr>\n",
       "      <th>Emissions|NOx</th>\n",
       "      <th>Mt NO2/yr</th>\n",
       "      <td>111.932782</td>\n",
       "      <td>107.885891</td>\n",
       "      <td>103.839001</td>\n",
       "      <td>100.578545</td>\n",
       "      <td>90.414941</td>\n",
       "      <td>83.246750</td>\n",
       "      <td>76.873134</td>\n",
       "      <td>71.389706</td>\n",
       "      <td>66.600884</td>\n",
       "      <td>61.113035</td>\n",
       "      <td>58.002888</td>\n",
       "    </tr>\n",
       "    <tr>\n",
       "      <th>Emissions|OC</th>\n",
       "      <th>Mt OC/yr</th>\n",
       "      <td>32.779500</td>\n",
       "      <td>31.481277</td>\n",
       "      <td>30.183053</td>\n",
       "      <td>28.506840</td>\n",
       "      <td>26.605900</td>\n",
       "      <td>24.472385</td>\n",
       "      <td>22.232003</td>\n",
       "      <td>19.908906</td>\n",
       "      <td>17.426649</td>\n",
       "      <td>15.458670</td>\n",
       "      <td>14.609433</td>\n",
       "    </tr>\n",
       "    <tr>\n",
       "      <th>Emissions|SF6</th>\n",
       "      <th>kt SF6/yr</th>\n",
       "      <td>7.584003</td>\n",
       "      <td>7.718131</td>\n",
       "      <td>7.852259</td>\n",
       "      <td>3.291976</td>\n",
       "      <td>2.950519</td>\n",
       "      <td>2.449625</td>\n",
       "      <td>2.171381</td>\n",
       "      <td>1.765318</td>\n",
       "      <td>1.275337</td>\n",
       "      <td>0.876556</td>\n",
       "      <td>0.792157</td>\n",
       "    </tr>\n",
       "    <tr>\n",
       "      <th>Emissions|Sulfur</th>\n",
       "      <th>Mt SO2/yr</th>\n",
       "      <td>100.029929</td>\n",
       "      <td>88.404937</td>\n",
       "      <td>76.779945</td>\n",
       "      <td>72.012877</td>\n",
       "      <td>59.622242</td>\n",
       "      <td>48.491201</td>\n",
       "      <td>42.770105</td>\n",
       "      <td>38.527958</td>\n",
       "      <td>34.058628</td>\n",
       "      <td>28.036548</td>\n",
       "      <td>24.866807</td>\n",
       "    </tr>\n",
       "    <tr>\n",
       "      <th>Emissions|VOC</th>\n",
       "      <th>Mt VOC/yr</th>\n",
       "      <td>187.800360</td>\n",
       "      <td>182.816450</td>\n",
       "      <td>177.832540</td>\n",
       "      <td>174.530358</td>\n",
       "      <td>168.278176</td>\n",
       "      <td>158.907698</td>\n",
       "      <td>146.398188</td>\n",
       "      <td>133.585151</td>\n",
       "      <td>120.655821</td>\n",
       "      <td>108.913688</td>\n",
       "      <td>103.131449</td>\n",
       "    </tr>\n",
       "  </tbody>\n",
       "</table>\n",
       "</div>"
      ],
      "text/plain": [
       "                                                                                                           2010  \\\n",
       "model               scenario region variable                                      unit                            \n",
       "MESSAGE-GLOBIOM 1.0 SSP2-45  World  Emissions|BC                                  Mt BC/yr             7.032940   \n",
       "                                    Emissions|CH4                                 Mt CH4/yr          326.525263   \n",
       "                                    Emissions|CO                                  Mt CO/yr           849.797615   \n",
       "                                    Emissions|CO2                                 Mt CO2/yr        40294.293821   \n",
       "                                    Emissions|CO2|AFOLU                           Mt CO2/yr         7161.443786   \n",
       "                                    Emissions|CO2|Energy and Industrial Processes Mt CO2/yr        33132.850034   \n",
       "                                    Emissions|F-Gases                             Mt CO2-equiv/yr    733.216000   \n",
       "                                    Emissions|HFC|HFC125                          kt HFC125/yr        31.108948   \n",
       "                                    Emissions|HFC|HFC134a                         kt HFC134a/yr      153.603976   \n",
       "                                    Emissions|HFC|HFC143a                         kt HFC143a/yr       19.299299   \n",
       "                                    Emissions|HFC|HFC227ea                        kt HFC227ea/yr       2.364525   \n",
       "                                    Emissions|HFC|HFC23                           kt HFC23/yr          9.271299   \n",
       "                                    Emissions|HFC|HFC32                           kt HFC32/yr         14.785264   \n",
       "                                    Emissions|HFC|HFC43-10                        kt HFC43-10/yr       0.804910   \n",
       "                                    Emissions|N2O                                 kt N2O/yr         8758.092223   \n",
       "                                    Emissions|NH3                                 Mt NH3/yr           55.391078   \n",
       "                                    Emissions|NOx                                 Mt NO2/yr          111.932782   \n",
       "                                    Emissions|OC                                  Mt OC/yr            32.779500   \n",
       "                                    Emissions|SF6                                 kt SF6/yr            7.584003   \n",
       "                                    Emissions|Sulfur                              Mt SO2/yr          100.029929   \n",
       "                                    Emissions|VOC                                 Mt VOC/yr          187.800360   \n",
       "\n",
       "                                                                                                           2015  \\\n",
       "model               scenario region variable                                      unit                            \n",
       "MESSAGE-GLOBIOM 1.0 SSP2-45  World  Emissions|BC                                  Mt BC/yr             6.491703   \n",
       "                                    Emissions|CH4                                 Mt CH4/yr          331.179148   \n",
       "                                    Emissions|CO                                  Mt CO/yr           817.693954   \n",
       "                                    Emissions|CO2                                 Mt CO2/yr        41289.611277   \n",
       "                                    Emissions|CO2|AFOLU                           Mt CO2/yr         6415.915892   \n",
       "                                    Emissions|CO2|Energy and Industrial Processes Mt CO2/yr        34873.695386   \n",
       "                                    Emissions|F-Gases                             Mt CO2-equiv/yr   1113.405333   \n",
       "                                    Emissions|HFC|HFC125                          kt HFC125/yr        81.899172   \n",
       "                                    Emissions|HFC|HFC134a                         kt HFC134a/yr      192.838013   \n",
       "                                    Emissions|HFC|HFC143a                         kt HFC143a/yr       37.845897   \n",
       "                                    Emissions|HFC|HFC227ea                        kt HFC227ea/yr       3.289658   \n",
       "                                    Emissions|HFC|HFC23                           kt HFC23/yr          5.679178   \n",
       "                                    Emissions|HFC|HFC32                           kt HFC32/yr         49.704608   \n",
       "                                    Emissions|HFC|HFC43-10                        kt HFC43-10/yr       0.868812   \n",
       "                                    Emissions|N2O                                 kt N2O/yr         9207.769528   \n",
       "                                    Emissions|NH3                                 Mt NH3/yr           52.149195   \n",
       "                                    Emissions|NOx                                 Mt NO2/yr          107.885891   \n",
       "                                    Emissions|OC                                  Mt OC/yr            31.481277   \n",
       "                                    Emissions|SF6                                 kt SF6/yr            7.718131   \n",
       "                                    Emissions|Sulfur                              Mt SO2/yr           88.404937   \n",
       "                                    Emissions|VOC                                 Mt VOC/yr          182.816450   \n",
       "\n",
       "                                                                                                           2020  \\\n",
       "model               scenario region variable                                      unit                            \n",
       "MESSAGE-GLOBIOM 1.0 SSP2-45  World  Emissions|BC                                  Mt BC/yr             5.950466   \n",
       "                                    Emissions|CH4                                 Mt CH4/yr          335.833033   \n",
       "                                    Emissions|CO                                  Mt CO/yr           785.590293   \n",
       "                                    Emissions|CO2                                 Mt CO2/yr        42284.928734   \n",
       "                                    Emissions|CO2|AFOLU                           Mt CO2/yr         5670.387997   \n",
       "                                    Emissions|CO2|Energy and Industrial Processes Mt CO2/yr        36614.540737   \n",
       "                                    Emissions|F-Gases                             Mt CO2-equiv/yr   1493.594667   \n",
       "                                    Emissions|HFC|HFC125                          kt HFC125/yr       132.689396   \n",
       "                                    Emissions|HFC|HFC134a                         kt HFC134a/yr      232.072051   \n",
       "                                    Emissions|HFC|HFC143a                         kt HFC143a/yr       56.392496   \n",
       "                                    Emissions|HFC|HFC227ea                        kt HFC227ea/yr       4.214791   \n",
       "                                    Emissions|HFC|HFC23                           kt HFC23/yr          2.087057   \n",
       "                                    Emissions|HFC|HFC32                           kt HFC32/yr         84.623952   \n",
       "                                    Emissions|HFC|HFC43-10                        kt HFC43-10/yr       0.932715   \n",
       "                                    Emissions|N2O                                 kt N2O/yr         9657.446832   \n",
       "                                    Emissions|NH3                                 Mt NH3/yr           48.907312   \n",
       "                                    Emissions|NOx                                 Mt NO2/yr          103.839001   \n",
       "                                    Emissions|OC                                  Mt OC/yr            30.183053   \n",
       "                                    Emissions|SF6                                 kt SF6/yr            7.852259   \n",
       "                                    Emissions|Sulfur                              Mt SO2/yr           76.779945   \n",
       "                                    Emissions|VOC                                 Mt VOC/yr          177.832540   \n",
       "\n",
       "                                                                                                           2030  \\\n",
       "model               scenario region variable                                      unit                            \n",
       "MESSAGE-GLOBIOM 1.0 SSP2-45  World  Emissions|BC                                  Mt BC/yr             5.587177   \n",
       "                                    Emissions|CH4                                 Mt CH4/yr          346.649464   \n",
       "                                    Emissions|CO                                  Mt CO/yr           765.839533   \n",
       "                                    Emissions|CO2                                 Mt CO2/yr        44385.654471   \n",
       "                                    Emissions|CO2|AFOLU                           Mt CO2/yr         4588.490119   \n",
       "                                    Emissions|CO2|Energy and Industrial Processes Mt CO2/yr        39797.164352   \n",
       "                                    Emissions|F-Gases                             Mt CO2-equiv/yr   1536.747667   \n",
       "                                    Emissions|HFC|HFC125                          kt HFC125/yr       158.728268   \n",
       "                                    Emissions|HFC|HFC134a                         kt HFC134a/yr      197.820914   \n",
       "                                    Emissions|HFC|HFC143a                         kt HFC143a/yr       72.624085   \n",
       "                                    Emissions|HFC|HFC227ea                        kt HFC227ea/yr       4.562358   \n",
       "                                    Emissions|HFC|HFC23                           kt HFC23/yr          1.360825   \n",
       "                                    Emissions|HFC|HFC32                           kt HFC32/yr         93.252108   \n",
       "                                    Emissions|HFC|HFC43-10                        kt HFC43-10/yr       0.995317   \n",
       "                                    Emissions|N2O                                 kt N2O/yr        10608.980481   \n",
       "                                    Emissions|NH3                                 Mt NH3/yr           52.915679   \n",
       "                                    Emissions|NOx                                 Mt NO2/yr          100.578545   \n",
       "                                    Emissions|OC                                  Mt OC/yr            28.506840   \n",
       "                                    Emissions|SF6                                 kt SF6/yr            3.291976   \n",
       "                                    Emissions|Sulfur                              Mt SO2/yr           72.012877   \n",
       "                                    Emissions|VOC                                 Mt VOC/yr          174.530358   \n",
       "\n",
       "                                                                                                           2040  \\\n",
       "model               scenario region variable                                      unit                            \n",
       "MESSAGE-GLOBIOM 1.0 SSP2-45  World  Emissions|BC                                  Mt BC/yr             5.162646   \n",
       "                                    Emissions|CH4                                 Mt CH4/yr          332.167726   \n",
       "                                    Emissions|CO                                  Mt CO/yr           720.311669   \n",
       "                                    Emissions|CO2                                 Mt CO2/yr        44491.570784   \n",
       "                                    Emissions|CO2|AFOLU                           Mt CO2/yr         3177.632881   \n",
       "                                    Emissions|CO2|Energy and Industrial Processes Mt CO2/yr        41313.937903   \n",
       "                                    Emissions|F-Gases                             Mt CO2-equiv/yr   1431.976333   \n",
       "                                    Emissions|HFC|HFC125                          kt HFC125/yr       129.706747   \n",
       "                                    Emissions|HFC|HFC134a                         kt HFC134a/yr      183.772397   \n",
       "                                    Emissions|HFC|HFC143a                         kt HFC143a/yr       83.348765   \n",
       "                                    Emissions|HFC|HFC227ea                        kt HFC227ea/yr       4.703183   \n",
       "                                    Emissions|HFC|HFC23                           kt HFC23/yr          0.721546   \n",
       "                                    Emissions|HFC|HFC32                           kt HFC32/yr         51.445485   \n",
       "                                    Emissions|HFC|HFC43-10                        kt HFC43-10/yr       1.049821   \n",
       "                                    Emissions|N2O                                 kt N2O/yr        11182.376737   \n",
       "                                    Emissions|NH3                                 Mt NH3/yr           55.230967   \n",
       "                                    Emissions|NOx                                 Mt NO2/yr           90.414941   \n",
       "                                    Emissions|OC                                  Mt OC/yr            26.605900   \n",
       "                                    Emissions|SF6                                 kt SF6/yr            2.950519   \n",
       "                                    Emissions|Sulfur                              Mt SO2/yr           59.622242   \n",
       "                                    Emissions|VOC                                 Mt VOC/yr          168.278176   \n",
       "\n",
       "                                                                                                           2050  \\\n",
       "model               scenario region variable                                      unit                            \n",
       "MESSAGE-GLOBIOM 1.0 SSP2-45  World  Emissions|BC                                  Mt BC/yr             4.620340   \n",
       "                                    Emissions|CH4                                 Mt CH4/yr          312.466865   \n",
       "                                    Emissions|CO                                  Mt CO/yr           655.682414   \n",
       "                                    Emissions|CO2                                 Mt CO2/yr        42832.156142   \n",
       "                                    Emissions|CO2|AFOLU                           Mt CO2/yr          682.209671   \n",
       "                                    Emissions|CO2|Energy and Industrial Processes Mt CO2/yr        42149.946471   \n",
       "                                    Emissions|F-Gases                             Mt CO2-equiv/yr   1270.137000   \n",
       "                                    Emissions|HFC|HFC125                          kt HFC125/yr        89.216921   \n",
       "                                    Emissions|HFC|HFC134a                         kt HFC134a/yr      179.845758   \n",
       "                                    Emissions|HFC|HFC143a                         kt HFC143a/yr       90.704004   \n",
       "                                    Emissions|HFC|HFC227ea                        kt HFC227ea/yr       4.707034   \n",
       "                                    Emissions|HFC|HFC23                           kt HFC23/yr          0.429572   \n",
       "                                    Emissions|HFC|HFC32                           kt HFC32/yr          2.131292   \n",
       "                                    Emissions|HFC|HFC43-10                        kt HFC43-10/yr       1.095014   \n",
       "                                    Emissions|N2O                                 kt N2O/yr        11372.071058   \n",
       "                                    Emissions|NH3                                 Mt NH3/yr           55.558188   \n",
       "                                    Emissions|NOx                                 Mt NO2/yr           83.246750   \n",
       "                                    Emissions|OC                                  Mt OC/yr            24.472385   \n",
       "                                    Emissions|SF6                                 kt SF6/yr            2.449625   \n",
       "                                    Emissions|Sulfur                              Mt SO2/yr           48.491201   \n",
       "                                    Emissions|VOC                                 Mt VOC/yr          158.907698   \n",
       "\n",
       "                                                                                                           2060  \\\n",
       "model               scenario region variable                                      unit                            \n",
       "MESSAGE-GLOBIOM 1.0 SSP2-45  World  Emissions|BC                                  Mt BC/yr             4.176487   \n",
       "                                    Emissions|CH4                                 Mt CH4/yr          291.010623   \n",
       "                                    Emissions|CO                                  Mt CO/yr           582.998181   \n",
       "                                    Emissions|CO2                                 Mt CO2/yr        39042.389737   \n",
       "                                    Emissions|CO2|AFOLU                           Mt CO2/yr        -1955.682705   \n",
       "                                    Emissions|CO2|Energy and Industrial Processes Mt CO2/yr        40998.072443   \n",
       "                                    Emissions|F-Gases                             Mt CO2-equiv/yr   1342.876333   \n",
       "                                    Emissions|HFC|HFC125                          kt HFC125/yr        97.180861   \n",
       "                                    Emissions|HFC|HFC134a                         kt HFC134a/yr      185.485709   \n",
       "                                    Emissions|HFC|HFC143a                         kt HFC143a/yr      100.394846   \n",
       "                                    Emissions|HFC|HFC227ea                        kt HFC227ea/yr       4.599969   \n",
       "                                    Emissions|HFC|HFC23                           kt HFC23/yr          0.226584   \n",
       "                                    Emissions|HFC|HFC32                           kt HFC32/yr          3.280001   \n",
       "                                    Emissions|HFC|HFC43-10                        kt HFC43-10/yr       1.134145   \n",
       "                                    Emissions|N2O                                 kt N2O/yr        11265.045507   \n",
       "                                    Emissions|NH3                                 Mt NH3/yr           54.612257   \n",
       "                                    Emissions|NOx                                 Mt NO2/yr           76.873134   \n",
       "                                    Emissions|OC                                  Mt OC/yr            22.232003   \n",
       "                                    Emissions|SF6                                 kt SF6/yr            2.171381   \n",
       "                                    Emissions|Sulfur                              Mt SO2/yr           42.770105   \n",
       "                                    Emissions|VOC                                 Mt VOC/yr          146.398188   \n",
       "\n",
       "                                                                                                           2070  \\\n",
       "model               scenario region variable                                      unit                            \n",
       "MESSAGE-GLOBIOM 1.0 SSP2-45  World  Emissions|BC                                  Mt BC/yr             3.639191   \n",
       "                                    Emissions|CH4                                 Mt CH4/yr          280.754681   \n",
       "                                    Emissions|CO                                  Mt CO/yr           519.461737   \n",
       "                                    Emissions|CO2                                 Mt CO2/yr        34193.217952   \n",
       "                                    Emissions|CO2|AFOLU                           Mt CO2/yr        -2630.631890   \n",
       "                                    Emissions|CO2|Energy and Industrial Processes Mt CO2/yr        36823.849841   \n",
       "                                    Emissions|F-Gases                             Mt CO2-equiv/yr   1391.100333   \n",
       "                                    Emissions|HFC|HFC125                          kt HFC125/yr       102.901492   \n",
       "                                    Emissions|HFC|HFC134a                         kt HFC134a/yr      188.077636   \n",
       "                                    Emissions|HFC|HFC143a                         kt HFC143a/yr      107.772520   \n",
       "                                    Emissions|HFC|HFC227ea                        kt HFC227ea/yr       4.416699   \n",
       "                                    Emissions|HFC|HFC23                           kt HFC23/yr          0.111604   \n",
       "                                    Emissions|HFC|HFC32                           kt HFC32/yr          4.277385   \n",
       "                                    Emissions|HFC|HFC43-10                        kt HFC43-10/yr       1.165959   \n",
       "                                    Emissions|N2O                                 kt N2O/yr        10868.118845   \n",
       "                                    Emissions|NH3                                 Mt NH3/yr           52.417313   \n",
       "                                    Emissions|NOx                                 Mt NO2/yr           71.389706   \n",
       "                                    Emissions|OC                                  Mt OC/yr            19.908906   \n",
       "                                    Emissions|SF6                                 kt SF6/yr            1.765318   \n",
       "                                    Emissions|Sulfur                              Mt SO2/yr           38.527958   \n",
       "                                    Emissions|VOC                                 Mt VOC/yr          133.585151   \n",
       "\n",
       "                                                                                                           2080  \\\n",
       "model               scenario region variable                                      unit                            \n",
       "MESSAGE-GLOBIOM 1.0 SSP2-45  World  Emissions|BC                                  Mt BC/yr             3.016475   \n",
       "                                    Emissions|CH4                                 Mt CH4/yr          269.016869   \n",
       "                                    Emissions|CO                                  Mt CO/yr           450.929872   \n",
       "                                    Emissions|CO2                                 Mt CO2/yr        25823.818089   \n",
       "                                    Emissions|CO2|AFOLU                           Mt CO2/yr        -3801.426053   \n",
       "                                    Emissions|CO2|Energy and Industrial Processes Mt CO2/yr        29625.244143   \n",
       "                                    Emissions|F-Gases                             Mt CO2-equiv/yr   1410.486000   \n",
       "                                    Emissions|HFC|HFC125                          kt HFC125/yr       107.074236   \n",
       "                                    Emissions|HFC|HFC134a                         kt HFC134a/yr      188.207243   \n",
       "                                    Emissions|HFC|HFC143a                         kt HFC143a/yr      113.454058   \n",
       "                                    Emissions|HFC|HFC227ea                        kt HFC227ea/yr       4.204816   \n",
       "                                    Emissions|HFC|HFC23                           kt HFC23/yr          0.056457   \n",
       "                                    Emissions|HFC|HFC32                           kt HFC32/yr          5.084371   \n",
       "                                    Emissions|HFC|HFC43-10                        kt HFC43-10/yr       1.186476   \n",
       "                                    Emissions|N2O                                 kt N2O/yr         9965.778937   \n",
       "                                    Emissions|NH3                                 Mt NH3/yr           49.918622   \n",
       "                                    Emissions|NOx                                 Mt NO2/yr           66.600884   \n",
       "                                    Emissions|OC                                  Mt OC/yr            17.426649   \n",
       "                                    Emissions|SF6                                 kt SF6/yr            1.275337   \n",
       "                                    Emissions|Sulfur                              Mt SO2/yr           34.058628   \n",
       "                                    Emissions|VOC                                 Mt VOC/yr          120.655821   \n",
       "\n",
       "                                                                                                           2090  \\\n",
       "model               scenario region variable                                      unit                            \n",
       "MESSAGE-GLOBIOM 1.0 SSP2-45  World  Emissions|BC                                  Mt BC/yr             2.425261   \n",
       "                                    Emissions|CH4                                 Mt CH4/yr          261.733557   \n",
       "                                    Emissions|CO                                  Mt CO/yr           389.051057   \n",
       "                                    Emissions|CO2                                 Mt CO2/yr        15468.528587   \n",
       "                                    Emissions|CO2|AFOLU                           Mt CO2/yr        -4559.450679   \n",
       "                                    Emissions|CO2|Energy and Industrial Processes Mt CO2/yr        20027.979266   \n",
       "                                    Emissions|F-Gases                             Mt CO2-equiv/yr   1444.149667   \n",
       "                                    Emissions|HFC|HFC125                          kt HFC125/yr       111.041347   \n",
       "                                    Emissions|HFC|HFC134a                         kt HFC134a/yr      189.082975   \n",
       "                                    Emissions|HFC|HFC143a                         kt HFC143a/yr      118.841164   \n",
       "                                    Emissions|HFC|HFC227ea                        kt HFC227ea/yr       3.978423   \n",
       "                                    Emissions|HFC|HFC23                           kt HFC23/yr          0.000000   \n",
       "                                    Emissions|HFC|HFC32                           kt HFC32/yr          5.636202   \n",
       "                                    Emissions|HFC|HFC43-10                        kt HFC43-10/yr       1.193928   \n",
       "                                    Emissions|N2O                                 kt N2O/yr         9361.891171   \n",
       "                                    Emissions|NH3                                 Mt NH3/yr           47.652420   \n",
       "                                    Emissions|NOx                                 Mt NO2/yr           61.113035   \n",
       "                                    Emissions|OC                                  Mt OC/yr            15.458670   \n",
       "                                    Emissions|SF6                                 kt SF6/yr            0.876556   \n",
       "                                    Emissions|Sulfur                              Mt SO2/yr           28.036548   \n",
       "                                    Emissions|VOC                                 Mt VOC/yr          108.913688   \n",
       "\n",
       "                                                                                                           2100  \n",
       "model               scenario region variable                                      unit                           \n",
       "MESSAGE-GLOBIOM 1.0 SSP2-45  World  Emissions|BC                                  Mt BC/yr             2.190230  \n",
       "                                    Emissions|CH4                                 Mt CH4/yr          256.974134  \n",
       "                                    Emissions|CO                                  Mt CO/yr           350.930869  \n",
       "                                    Emissions|CO2                                 Mt CO2/yr         9115.046702  \n",
       "                                    Emissions|CO2|AFOLU                           Mt CO2/yr        -4800.076969  \n",
       "                                    Emissions|CO2|Energy and Industrial Processes Mt CO2/yr        13915.123671  \n",
       "                                    Emissions|F-Gases                             Mt CO2-equiv/yr   1371.912667  \n",
       "                                    Emissions|HFC|HFC125                          kt HFC125/yr       104.776828  \n",
       "                                    Emissions|HFC|HFC134a                         kt HFC134a/yr      178.484050  \n",
       "                                    Emissions|HFC|HFC143a                         kt HFC143a/yr      112.853031  \n",
       "                                    Emissions|HFC|HFC227ea                        kt HFC227ea/yr       3.761696  \n",
       "                                    Emissions|HFC|HFC23                           kt HFC23/yr          0.000000  \n",
       "                                    Emissions|HFC|HFC32                           kt HFC32/yr          5.685279  \n",
       "                                    Emissions|HFC|HFC43-10                        kt HFC43-10/yr       1.189336  \n",
       "                                    Emissions|N2O                                 kt N2O/yr         8776.604443  \n",
       "                                    Emissions|NH3                                 Mt NH3/yr           45.776741  \n",
       "                                    Emissions|NOx                                 Mt NO2/yr           58.002888  \n",
       "                                    Emissions|OC                                  Mt OC/yr            14.609433  \n",
       "                                    Emissions|SF6                                 kt SF6/yr            0.792157  \n",
       "                                    Emissions|Sulfur                              Mt SO2/yr           24.866807  \n",
       "                                    Emissions|VOC                                 Mt VOC/yr          103.131449  "
      ]
     },
     "execution_count": 21,
     "metadata": {},
     "output_type": "execute_result"
    }
   ],
   "source": [
    "hist = ar6.filter(\n",
    "    scenario=\"SSP2-45\", model = \"MESSAGE-GLOBIOM 1.0\", year=imp_scen.year, region=\"World\"\n",
    ")\n",
    "hist.timeseries()"
   ]
  },
  {
   "cell_type": "code",
   "execution_count": 22,
   "id": "bf6ee287",
   "metadata": {},
   "outputs": [
    {
     "data": {
      "text/plain": [
       "<AxesSubplot:title={'center':'model: MESSAGE-GLOBIOM 1.0 - scenario: SSP2-45 - region: World - variable: Emissions|CO2'}, xlabel='Year', ylabel='Mt CO2/yr'>"
      ]
     },
     "execution_count": 22,
     "metadata": {},
     "output_type": "execute_result"
    },
    {
     "data": {
      "image/png": "[encoded data removed]",
      "text/plain": [
       "<Figure size 1152x576 with 1 Axes>"
      ]
     },
     "metadata": {
      "needs_background": "light"
     },
     "output_type": "display_data"
    }
   ],
   "source": [
    "plt.figure(figsize=(16, 8))\n",
    "ax = plt.subplot()\n",
    "rcmip.filter(model=\"MESSAGE*\", year=imp_scen.year,variable=co2,region=\"World\").plot(ax=ax)\n",
    "ar6.filter(scenario=\"SSP2-45\", model=\"MESSAGE*\", year=imp_scen.year,variable=co2,region=\"World\").plot(ax=ax, linestyle=\"--\")"
   ]
  },
  {
   "cell_type": "code",
   "execution_count": 23,
   "id": "8d043966",
   "metadata": {},
   "outputs": [
    {
     "data": {
      "text/plain": [
       "['MESSAGE-GLOBIOM 1.0']"
      ]
     },
     "execution_count": 23,
     "metadata": {},
     "output_type": "execute_result"
    }
   ],
   "source": [
    "hist.model"
   ]
  },
  {
   "cell_type": "code",
   "execution_count": 24,
   "id": "548292e9",
   "metadata": {},
   "outputs": [],
   "source": [
    "# Harmonise using a scaling factor that goes to 1 in 2050\n",
    "unity_year = 2050\n",
    "def harmonize(df, var, harm_df, harm_years):\n",
    "    harm_unit = harm_df.filter(variable=var).unit\n",
    "    to_harm_unit = df.filter(variable=var).unit\n",
    "    assert (harm_unit == to_harm_unit) or (harm_unit == [\"Mt CO2-equiv/yr\"]) or (\n",
    "        (harm_unit == [\"Mt NOx/yr\"]) and (to_harm_unit == [\"Mt NO2/yr\"])\n",
    "    ), \"Invalid units {} (desired) and {} (current) for variable {}\".format(\n",
    "        harm_unit, to_harm_unit, var\n",
    "    )\n",
    "    if (harm_unit != to_harm_unit):\n",
    "        print(\n",
    "            \"unit mismatch for  {} (desired) and {} (current) for variable {}\".format(harm_unit, to_harm_unit, var)\n",
    "        )\n",
    "        if (harm_unit == [\"Mt CO2-equiv/yr\"]):\n",
    "            df = pyam.convert_unit(df, current=to_harm_unit[0], to=harm_unit[0], context=\"AR4GWP100\")\n",
    "        print(\"Converted unit of {} to {}\".format(var, df.filter(variable=var).unit))\n",
    "    assert unity_year >= max(harm_years)\n",
    "    canon2015 = harm_df.filter(year=2015, variable=var).data[\"value\"]\n",
    "    if len(canon2015) != 1:\n",
    "        print(canon2015)\n",
    "        raise ValueError\n",
    "    ret = df.timeseries()\n",
    "    canon2015 = canon2015[0]\n",
    "    canon2010 = harm_df.filter(year=2010, variable=var).data[\"value\"][0]\n",
    "    if 2005 in harm_df.year:\n",
    "        canon2005 = harm_df.filter(year=2005, variable=var).data[\"value\"][0]\n",
    "        ret[2005] = canon2005\n",
    "    if 2000 in harm_df.year:\n",
    "        canon2000 = harm_df.filter(year=2000, variable=var).data[\"value\"][0]\n",
    "        ret[2000] = canon2000\n",
    "    assert df.variable==[var]\n",
    "    ret[2010] = canon2010\n",
    "    fractional_correction_all = ret[2015] / canon2015\n",
    "    fractional_correction_use = fractional_correction_all\n",
    "    ret[2015] = canon2015\n",
    "    for year in [y for y in harm_years if y > 2015]:\n",
    "        ret[year] = ret[year] / fractional_correction_use\n",
    "        # Each decade we advance the harmonisation towards 1 linearly.\n",
    "        next_year = min([y for y in harm_years if y > year] + [1000000])\n",
    "        fractional_correction_use = 1 - (1-fractional_correction_all) * (unity_year - next_year) / (unity_year-2015)\n",
    "    \n",
    "    return pyam.IamDataFrame(ret)"
   ]
  },
  {
   "cell_type": "code",
   "execution_count": 25,
   "id": "3943cae3",
   "metadata": {},
   "outputs": [
    {
     "name": "stderr",
     "output_type": "stream",
     "text": [
      "pyam.core - WARNING: Filtered IamDataFrame is empty!\n",
      "pyam.core - WARNING: Filtered IamDataFrame is empty!\n",
      "pyam.core - WARNING: Filtered IamDataFrame is empty!\n"
     ]
    },
    {
     "name": "stdout",
     "output_type": "stream",
     "text": [
      "No data avaiable for Emissions|PFC|CF4\n",
      "No data avaiable for Emissions|PFC|C2F6\n",
      "No data avaiable for Emissions|PFC|C6F14\n"
     ]
    },
    {
     "name": "stderr",
     "output_type": "stream",
     "text": [
      "pyam.core - WARNING: Filtered IamDataFrame is empty!\n"
     ]
    },
    {
     "name": "stdout",
     "output_type": "stream",
     "text": [
      "No data avaiable for Emissions|HFC|HFC245ca\n"
     ]
    }
   ],
   "source": [
    "harm_years = [y for y in imp_scen.year if y <= unity_year]\n",
    "imp_scen_harm = []\n",
    "unavailable_vars = []\n",
    "for var in required_variables_list + extra_var:\n",
    "    if imp_scen.filter(variable=var).empty or hist.filter(variable=var).empty:\n",
    "        print(f\"No data avaiable for {var}\")\n",
    "        unavailable_vars.append(var)\n",
    "        continue\n",
    "    tmp = harmonize(imp_scen.filter(variable=var), var, hist, harm_years)\n",
    "    imp_scen_harm.append(tmp)"
   ]
  },
  {
   "cell_type": "markdown",
   "id": "4b03ec02",
   "metadata": {},
   "source": [
    "# Infill the missing emissions"
   ]
  },
  {
   "cell_type": "code",
   "execution_count": 26,
   "id": "0224b301",
   "metadata": {},
   "outputs": [],
   "source": [
    "df = pyam.concat(desired_scenarios)"
   ]
  },
  {
   "cell_type": "code",
   "execution_count": 27,
   "id": "7770c449",
   "metadata": {},
   "outputs": [],
   "source": [
    "df = df.data\n",
    "del df[\"activity_id\"]\n",
    "del df[\"mip_era\"]"
   ]
  },
  {
   "cell_type": "code",
   "execution_count": 28,
   "id": "71bd0cb0",
   "metadata": {
    "scrolled": true
   },
   "outputs": [],
   "source": [
    "hfcs = [\n",
    "    \"Emissions|HFC|HFC125\", \"Emissions|HFC|HFC134a\", \"Emissions|HFC|HFC143a\",\n",
    "    \"Emissions|HFC|HFC227ea\", \"Emissions|HFC|HFC23\", \"Emissions|HFC|HFC32\", \"Emissions|HFC|HFC43-10\",\n",
    "]\n",
    "fgases = [\"Emissions|HFC\", \"Emissions|SF6\", 'Emissions|PFC|C2F6', 'Emissions|PFC|CF4']\n",
    "fgas = \"Emissions|F-Gases\""
   ]
  },
  {
   "cell_type": "code",
   "execution_count": 29,
   "id": "9a1d816d",
   "metadata": {},
   "outputs": [],
   "source": [
    "df[\"variable\"] = df[\"variable\"].str.replace(\"MAGICC AFOLU\", \"AFOLU\").str.replace(\n",
    "    \"MAGICC Fossil and Industrial\", \"Energy and Industrial Processes\"\n",
    ")"
   ]
  },
  {
   "cell_type": "code",
   "execution_count": 30,
   "id": "036e5082",
   "metadata": {},
   "outputs": [],
   "source": [
    "df = pyam.IamDataFrame(df)"
   ]
  },
  {
   "cell_type": "code",
   "execution_count": 31,
   "id": "b5485e8e",
   "metadata": {},
   "outputs": [],
   "source": [
    "df2 = pyam.concat(imp_scen_harm)"
   ]
  },
  {
   "cell_type": "code",
   "execution_count": 32,
   "id": "37229ac2",
   "metadata": {},
   "outputs": [],
   "source": [
    "# Rename the scenarios for convenience\n",
    "df2 = df2.data\n",
    "for (_, (old, new)) in ar6_meta.reset_index()[[\"scenario\", \"IMP_marker\"]].iterrows():\n",
    "    df2.loc[df2[\"scenario\"]==old, \"scenario\"] = new\n",
    "df2 = pyam.IamDataFrame(df2)"
   ]
  },
  {
   "cell_type": "code",
   "execution_count": 33,
   "id": "7c8c5a8a",
   "metadata": {},
   "outputs": [
    {
     "data": {
      "text/plain": [
       "['CurPol', 'GS', 'LD', 'ModAct', 'Neg', 'Ren', 'SP']"
      ]
     },
     "execution_count": 33,
     "metadata": {},
     "output_type": "execute_result"
    }
   ],
   "source": [
    "df2.scenario"
   ]
  },
  {
   "cell_type": "code",
   "execution_count": 34,
   "id": "142c9cf5",
   "metadata": {},
   "outputs": [],
   "source": [
    "df = df.append(df2)"
   ]
  },
  {
   "cell_type": "code",
   "execution_count": 35,
   "id": "665bcd84",
   "metadata": {},
   "outputs": [],
   "source": [
    "missing_emissions = [\n",
    "    'Emissions|PFC|C2F6', 'Emissions|HFC|HFC43-10', 'Emissions|PFC|C6F14', 'Emissions|HFC|HFC125', \n",
    "    'Emissions|HFC|HFC32', 'Emissions|HFC|HFC143a', 'Emissions|HFC|HFC245fa', 'Emissions|HFC|HFC23', \n",
    "    'Emissions|HFC|HFC134a', 'Emissions|SF6', 'Emissions|PFC|CF4', 'Emissions|HFC|HFC227ea', \n",
    "]"
   ]
  },
  {
   "cell_type": "code",
   "execution_count": 36,
   "id": "c4864288",
   "metadata": {},
   "outputs": [
    {
     "name": "stderr",
     "output_type": "stream",
     "text": [
      "pyam.core - WARNING: Filtered IamDataFrame is empty!\n"
     ]
    },
    {
     "name": "stdout",
     "output_type": "stream",
     "text": [
      "Emissions|HFC|HFC245fa\n"
     ]
    }
   ],
   "source": [
    "added_var = []\n",
    "for em in missing_emissions:\n",
    "    is_empty = ar6.filter(region=\"World\", variable=em).empty\n",
    "    if is_empty:\n",
    "        added_var.append(em)\n",
    "        print(em)"
   ]
  },
  {
   "cell_type": "code",
   "execution_count": 37,
   "id": "b66e46d2",
   "metadata": {},
   "outputs": [
    {
     "name": "stderr",
     "output_type": "stream",
     "text": [
      "c:\\users\\rlamboll\\constraincode\\silicone\\src\\silicone\\multiple_infillers\\infill_all_required_emissions_for_openscm.py:191: UserWarning: No data for ['Emissions|HFC|HFC245ca', 'Emissions|HFC|HFC245fa'], it will be infilled with 0s\n",
      "  unavailable_variables\n",
      "silicone.database_crunchers.constant_ratio - INFO: <class 'silicone.database_crunchers.constant_ratio.ConstantRatio'> won't use any information from the database\n",
      "Filling required variables:   0%|                                                                | 0/2 [00:00<?, ?it/s]silicone.database_crunchers.constant_ratio - WARNING: Note that the lead variable ['Emissions|CO2'] goes negative.\n",
      "silicone.database_crunchers.constant_ratio - WARNING: Note that the lead variable ['Emissions|CO2'] goes negative.\n",
      "Filling required variables: 100%|████████████████████████████████████████████████████████| 2/2 [00:00<00:00, 29.85it/s]\n"
     ]
    },
    {
     "name": "stdout",
     "output_type": "stream",
     "text": [
      "Note that the lead variable ['Emissions|CO2'] goes negative.\n",
      "Note that the lead variable ['Emissions|CO2'] goes negative.\n"
     ]
    },
    {
     "name": "stderr",
     "output_type": "stream",
     "text": [
      "Filling required variables: 100%|██████████████████████████████████████████████████████| 22/22 [00:06<00:00,  3.62it/s]\n"
     ]
    }
   ],
   "source": [
    "normal_years = [2015] + list(np.arange(2020, 2101, 10))\n",
    "infilled_df = mi.infill_all_required_variables(\n",
    "    df.filter(region=\"World\", year=normal_years),\n",
    "    ar6.filter(region=\"World\"), \n",
    "    [co2],\n",
    "    required_variables_list=required_variables_list + added_var\n",
    ")"
   ]
  },
  {
   "cell_type": "code",
   "execution_count": 38,
   "id": "a8432f6b",
   "metadata": {},
   "outputs": [],
   "source": [
    "df_inf = df.filter(year=np.arange(2000, 2101), keep=False).append(infilled_df)\n",
    "bad_vars = [\n",
    "    \"*Sulfur|*\", \"*|BC|*\", \"*CH4|*\", \"Emissions|Montreal Gases|*\", \"Emissions|VOC|*\", \n",
    "    \"Emissions|NH3|*\", \"Emissions|NOx|*\", \"Emissions|OC|*\", \"Emissions|CO|*\", \n",
    "]"
   ]
  },
  {
   "cell_type": "code",
   "execution_count": 39,
   "id": "97db45ad",
   "metadata": {},
   "outputs": [],
   "source": [
    "extra_years = np.arange(2110, 2301, 10)\n",
    "dfts = df_inf.timeseries()\n",
    "for year in extra_years:\n",
    "    blanks = np.isnan(dfts.loc[:, year])\n",
    "    dfts.loc[blanks, year] = dfts.loc[blanks, 2100]"
   ]
  },
  {
   "cell_type": "code",
   "execution_count": 40,
   "id": "3659144c",
   "metadata": {},
   "outputs": [
    {
     "data": {
      "text/html": [
       "<div>\n",
       "<style scoped>\n",
       "    .dataframe tbody tr th:only-of-type {\n",
       "        vertical-align: middle;\n",
       "    }\n",
       "\n",
       "    .dataframe tbody tr th {\n",
       "        vertical-align: top;\n",
       "    }\n",
       "\n",
       "    .dataframe thead th {\n",
       "        text-align: right;\n",
       "    }\n",
       "</style>\n",
       "<table border=\"1\" class=\"dataframe\">\n",
       "  <thead>\n",
       "    <tr style=\"text-align: right;\">\n",
       "      <th></th>\n",
       "      <th></th>\n",
       "      <th></th>\n",
       "      <th></th>\n",
       "      <th></th>\n",
       "      <th>2015</th>\n",
       "      <th>2020</th>\n",
       "      <th>2030</th>\n",
       "      <th>2040</th>\n",
       "      <th>2050</th>\n",
       "      <th>2060</th>\n",
       "      <th>2070</th>\n",
       "      <th>2080</th>\n",
       "      <th>2090</th>\n",
       "      <th>2100</th>\n",
       "      <th>...</th>\n",
       "      <th>2410</th>\n",
       "      <th>2420</th>\n",
       "      <th>2430</th>\n",
       "      <th>2440</th>\n",
       "      <th>2450</th>\n",
       "      <th>2460</th>\n",
       "      <th>2470</th>\n",
       "      <th>2480</th>\n",
       "      <th>2490</th>\n",
       "      <th>2500</th>\n",
       "    </tr>\n",
       "    <tr>\n",
       "      <th>model</th>\n",
       "      <th>scenario</th>\n",
       "      <th>region</th>\n",
       "      <th>variable</th>\n",
       "      <th>unit</th>\n",
       "      <th></th>\n",
       "      <th></th>\n",
       "      <th></th>\n",
       "      <th></th>\n",
       "      <th></th>\n",
       "      <th></th>\n",
       "      <th></th>\n",
       "      <th></th>\n",
       "      <th></th>\n",
       "      <th></th>\n",
       "      <th></th>\n",
       "      <th></th>\n",
       "      <th></th>\n",
       "      <th></th>\n",
       "      <th></th>\n",
       "      <th></th>\n",
       "      <th></th>\n",
       "      <th></th>\n",
       "      <th></th>\n",
       "      <th></th>\n",
       "      <th></th>\n",
       "    </tr>\n",
       "  </thead>\n",
       "  <tbody>\n",
       "    <tr>\n",
       "      <th rowspan=\"5\" valign=\"top\">COFFEE 1.1</th>\n",
       "      <th rowspan=\"5\" valign=\"top\">Neg</th>\n",
       "      <th rowspan=\"5\" valign=\"top\">World</th>\n",
       "      <th>Emissions|BC</th>\n",
       "      <th>Mt BC/yr</th>\n",
       "      <td>7.311049</td>\n",
       "      <td>7.235187</td>\n",
       "      <td>5.716334</td>\n",
       "      <td>4.521496</td>\n",
       "      <td>3.514215</td>\n",
       "      <td>2.995611</td>\n",
       "      <td>2.602566</td>\n",
       "      <td>2.197350</td>\n",
       "      <td>1.817552</td>\n",
       "      <td>1.712026</td>\n",
       "      <td>...</td>\n",
       "      <td>NaN</td>\n",
       "      <td>NaN</td>\n",
       "      <td>NaN</td>\n",
       "      <td>NaN</td>\n",
       "      <td>NaN</td>\n",
       "      <td>NaN</td>\n",
       "      <td>NaN</td>\n",
       "      <td>NaN</td>\n",
       "      <td>NaN</td>\n",
       "      <td>NaN</td>\n",
       "    </tr>\n",
       "    <tr>\n",
       "      <th>Emissions|CH4</th>\n",
       "      <th>Mt CH4/yr</th>\n",
       "      <td>331.179148</td>\n",
       "      <td>346.121739</td>\n",
       "      <td>310.934029</td>\n",
       "      <td>282.894483</td>\n",
       "      <td>274.620376</td>\n",
       "      <td>257.692242</td>\n",
       "      <td>243.600205</td>\n",
       "      <td>234.684370</td>\n",
       "      <td>220.649461</td>\n",
       "      <td>205.464330</td>\n",
       "      <td>...</td>\n",
       "      <td>NaN</td>\n",
       "      <td>NaN</td>\n",
       "      <td>NaN</td>\n",
       "      <td>NaN</td>\n",
       "      <td>NaN</td>\n",
       "      <td>NaN</td>\n",
       "      <td>NaN</td>\n",
       "      <td>NaN</td>\n",
       "      <td>NaN</td>\n",
       "      <td>NaN</td>\n",
       "    </tr>\n",
       "    <tr>\n",
       "      <th>Emissions|CO</th>\n",
       "      <th>Mt CO/yr</th>\n",
       "      <td>847.398056</td>\n",
       "      <td>800.019862</td>\n",
       "      <td>700.400701</td>\n",
       "      <td>571.102939</td>\n",
       "      <td>457.901102</td>\n",
       "      <td>437.098088</td>\n",
       "      <td>398.600861</td>\n",
       "      <td>368.646386</td>\n",
       "      <td>333.197575</td>\n",
       "      <td>306.325518</td>\n",
       "      <td>...</td>\n",
       "      <td>NaN</td>\n",
       "      <td>NaN</td>\n",
       "      <td>NaN</td>\n",
       "      <td>NaN</td>\n",
       "      <td>NaN</td>\n",
       "      <td>NaN</td>\n",
       "      <td>NaN</td>\n",
       "      <td>NaN</td>\n",
       "      <td>NaN</td>\n",
       "      <td>NaN</td>\n",
       "    </tr>\n",
       "    <tr>\n",
       "      <th>Emissions|CO2</th>\n",
       "      <th>Mt CO2/yr</th>\n",
       "      <td>41289.611277</td>\n",
       "      <td>40461.665900</td>\n",
       "      <td>27809.679418</td>\n",
       "      <td>19590.064316</td>\n",
       "      <td>10351.503058</td>\n",
       "      <td>-822.145614</td>\n",
       "      <td>-7532.407310</td>\n",
       "      <td>-9077.107879</td>\n",
       "      <td>-13654.102772</td>\n",
       "      <td>-13228.916244</td>\n",
       "      <td>...</td>\n",
       "      <td>NaN</td>\n",
       "      <td>NaN</td>\n",
       "      <td>NaN</td>\n",
       "      <td>NaN</td>\n",
       "      <td>NaN</td>\n",
       "      <td>NaN</td>\n",
       "      <td>NaN</td>\n",
       "      <td>NaN</td>\n",
       "      <td>NaN</td>\n",
       "      <td>NaN</td>\n",
       "    </tr>\n",
       "    <tr>\n",
       "      <th>Emissions|CO2|AFOLU</th>\n",
       "      <th>Mt CO2/yr</th>\n",
       "      <td>6415.915892</td>\n",
       "      <td>6862.540446</td>\n",
       "      <td>1080.300339</td>\n",
       "      <td>-624.645038</td>\n",
       "      <td>-546.004229</td>\n",
       "      <td>-1811.357823</td>\n",
       "      <td>-1907.619188</td>\n",
       "      <td>-1980.016200</td>\n",
       "      <td>-2150.700633</td>\n",
       "      <td>-116.564100</td>\n",
       "      <td>...</td>\n",
       "      <td>NaN</td>\n",
       "      <td>NaN</td>\n",
       "      <td>NaN</td>\n",
       "      <td>NaN</td>\n",
       "      <td>NaN</td>\n",
       "      <td>NaN</td>\n",
       "      <td>NaN</td>\n",
       "      <td>NaN</td>\n",
       "      <td>NaN</td>\n",
       "      <td>NaN</td>\n",
       "    </tr>\n",
       "    <tr>\n",
       "      <th>...</th>\n",
       "      <th>...</th>\n",
       "      <th>...</th>\n",
       "      <th>...</th>\n",
       "      <th>...</th>\n",
       "      <td>...</td>\n",
       "      <td>...</td>\n",
       "      <td>...</td>\n",
       "      <td>...</td>\n",
       "      <td>...</td>\n",
       "      <td>...</td>\n",
       "      <td>...</td>\n",
       "      <td>...</td>\n",
       "      <td>...</td>\n",
       "      <td>...</td>\n",
       "      <td>...</td>\n",
       "      <td>...</td>\n",
       "      <td>...</td>\n",
       "      <td>...</td>\n",
       "      <td>...</td>\n",
       "      <td>...</td>\n",
       "      <td>...</td>\n",
       "      <td>...</td>\n",
       "      <td>...</td>\n",
       "      <td>...</td>\n",
       "      <td>...</td>\n",
       "    </tr>\n",
       "    <tr>\n",
       "      <th rowspan=\"5\" valign=\"top\">WITCH 5.0</th>\n",
       "      <th rowspan=\"5\" valign=\"top\">GS</th>\n",
       "      <th rowspan=\"5\" valign=\"top\">World</th>\n",
       "      <th>Emissions|PFC|C6F14</th>\n",
       "      <th>kt C6F14/yr</th>\n",
       "      <td>1.310339</td>\n",
       "      <td>0.923039</td>\n",
       "      <td>0.937891</td>\n",
       "      <td>0.439299</td>\n",
       "      <td>0.286155</td>\n",
       "      <td>0.325423</td>\n",
       "      <td>0.268324</td>\n",
       "      <td>0.158383</td>\n",
       "      <td>0.118455</td>\n",
       "      <td>0.081788</td>\n",
       "      <td>...</td>\n",
       "      <td>NaN</td>\n",
       "      <td>NaN</td>\n",
       "      <td>NaN</td>\n",
       "      <td>NaN</td>\n",
       "      <td>NaN</td>\n",
       "      <td>NaN</td>\n",
       "      <td>NaN</td>\n",
       "      <td>NaN</td>\n",
       "      <td>NaN</td>\n",
       "      <td>NaN</td>\n",
       "    </tr>\n",
       "    <tr>\n",
       "      <th>Emissions|PFC|CF4</th>\n",
       "      <th>kt CF4/yr</th>\n",
       "      <td>12.131953</td>\n",
       "      <td>10.736830</td>\n",
       "      <td>9.941279</td>\n",
       "      <td>4.880410</td>\n",
       "      <td>3.797173</td>\n",
       "      <td>3.185096</td>\n",
       "      <td>2.853472</td>\n",
       "      <td>2.830629</td>\n",
       "      <td>2.861531</td>\n",
       "      <td>2.864414</td>\n",
       "      <td>...</td>\n",
       "      <td>NaN</td>\n",
       "      <td>NaN</td>\n",
       "      <td>NaN</td>\n",
       "      <td>NaN</td>\n",
       "      <td>NaN</td>\n",
       "      <td>NaN</td>\n",
       "      <td>NaN</td>\n",
       "      <td>NaN</td>\n",
       "      <td>NaN</td>\n",
       "      <td>NaN</td>\n",
       "    </tr>\n",
       "    <tr>\n",
       "      <th>Emissions|SF6</th>\n",
       "      <th>kt SF6/yr</th>\n",
       "      <td>7.718131</td>\n",
       "      <td>7.359764</td>\n",
       "      <td>5.596192</td>\n",
       "      <td>4.679184</td>\n",
       "      <td>3.655490</td>\n",
       "      <td>3.187532</td>\n",
       "      <td>2.866962</td>\n",
       "      <td>2.567710</td>\n",
       "      <td>2.228894</td>\n",
       "      <td>1.797693</td>\n",
       "      <td>...</td>\n",
       "      <td>NaN</td>\n",
       "      <td>NaN</td>\n",
       "      <td>NaN</td>\n",
       "      <td>NaN</td>\n",
       "      <td>NaN</td>\n",
       "      <td>NaN</td>\n",
       "      <td>NaN</td>\n",
       "      <td>NaN</td>\n",
       "      <td>NaN</td>\n",
       "      <td>NaN</td>\n",
       "    </tr>\n",
       "    <tr>\n",
       "      <th>Emissions|Sulfur</th>\n",
       "      <th>Mt SO2/yr</th>\n",
       "      <td>88.404937</td>\n",
       "      <td>88.053166</td>\n",
       "      <td>63.992152</td>\n",
       "      <td>29.892739</td>\n",
       "      <td>16.987206</td>\n",
       "      <td>12.794764</td>\n",
       "      <td>11.852492</td>\n",
       "      <td>10.890809</td>\n",
       "      <td>10.178586</td>\n",
       "      <td>9.584076</td>\n",
       "      <td>...</td>\n",
       "      <td>NaN</td>\n",
       "      <td>NaN</td>\n",
       "      <td>NaN</td>\n",
       "      <td>NaN</td>\n",
       "      <td>NaN</td>\n",
       "      <td>NaN</td>\n",
       "      <td>NaN</td>\n",
       "      <td>NaN</td>\n",
       "      <td>NaN</td>\n",
       "      <td>NaN</td>\n",
       "    </tr>\n",
       "    <tr>\n",
       "      <th>Emissions|VOC</th>\n",
       "      <th>Mt VOC/yr</th>\n",
       "      <td>182.816450</td>\n",
       "      <td>170.213072</td>\n",
       "      <td>150.912734</td>\n",
       "      <td>122.756701</td>\n",
       "      <td>99.161801</td>\n",
       "      <td>86.872972</td>\n",
       "      <td>83.297069</td>\n",
       "      <td>80.495594</td>\n",
       "      <td>78.534788</td>\n",
       "      <td>76.907487</td>\n",
       "      <td>...</td>\n",
       "      <td>NaN</td>\n",
       "      <td>NaN</td>\n",
       "      <td>NaN</td>\n",
       "      <td>NaN</td>\n",
       "      <td>NaN</td>\n",
       "      <td>NaN</td>\n",
       "      <td>NaN</td>\n",
       "      <td>NaN</td>\n",
       "      <td>NaN</td>\n",
       "      <td>NaN</td>\n",
       "    </tr>\n",
       "  </tbody>\n",
       "</table>\n",
       "<p>571 rows × 50 columns</p>\n",
       "</div>"
      ],
      "text/plain": [
       "                                                                    2015  \\\n",
       "model      scenario region variable            unit                        \n",
       "COFFEE 1.1 Neg      World  Emissions|BC        Mt BC/yr         7.311049   \n",
       "                           Emissions|CH4       Mt CH4/yr      331.179148   \n",
       "                           Emissions|CO        Mt CO/yr       847.398056   \n",
       "                           Emissions|CO2       Mt CO2/yr    41289.611277   \n",
       "                           Emissions|CO2|AFOLU Mt CO2/yr     6415.915892   \n",
       "...                                                                  ...   \n",
       "WITCH 5.0  GS       World  Emissions|PFC|C6F14 kt C6F14/yr      1.310339   \n",
       "                           Emissions|PFC|CF4   kt CF4/yr       12.131953   \n",
       "                           Emissions|SF6       kt SF6/yr        7.718131   \n",
       "                           Emissions|Sulfur    Mt SO2/yr       88.404937   \n",
       "                           Emissions|VOC       Mt VOC/yr      182.816450   \n",
       "\n",
       "                                                                    2020  \\\n",
       "model      scenario region variable            unit                        \n",
       "COFFEE 1.1 Neg      World  Emissions|BC        Mt BC/yr         7.235187   \n",
       "                           Emissions|CH4       Mt CH4/yr      346.121739   \n",
       "                           Emissions|CO        Mt CO/yr       800.019862   \n",
       "                           Emissions|CO2       Mt CO2/yr    40461.665900   \n",
       "                           Emissions|CO2|AFOLU Mt CO2/yr     6862.540446   \n",
       "...                                                                  ...   \n",
       "WITCH 5.0  GS       World  Emissions|PFC|C6F14 kt C6F14/yr      0.923039   \n",
       "                           Emissions|PFC|CF4   kt CF4/yr       10.736830   \n",
       "                           Emissions|SF6       kt SF6/yr        7.359764   \n",
       "                           Emissions|Sulfur    Mt SO2/yr       88.053166   \n",
       "                           Emissions|VOC       Mt VOC/yr      170.213072   \n",
       "\n",
       "                                                                    2030  \\\n",
       "model      scenario region variable            unit                        \n",
       "COFFEE 1.1 Neg      World  Emissions|BC        Mt BC/yr         5.716334   \n",
       "                           Emissions|CH4       Mt CH4/yr      310.934029   \n",
       "                           Emissions|CO        Mt CO/yr       700.400701   \n",
       "                           Emissions|CO2       Mt CO2/yr    27809.679418   \n",
       "                           Emissions|CO2|AFOLU Mt CO2/yr     1080.300339   \n",
       "...                                                                  ...   \n",
       "WITCH 5.0  GS       World  Emissions|PFC|C6F14 kt C6F14/yr      0.937891   \n",
       "                           Emissions|PFC|CF4   kt CF4/yr        9.941279   \n",
       "                           Emissions|SF6       kt SF6/yr        5.596192   \n",
       "                           Emissions|Sulfur    Mt SO2/yr       63.992152   \n",
       "                           Emissions|VOC       Mt VOC/yr      150.912734   \n",
       "\n",
       "                                                                    2040  \\\n",
       "model      scenario region variable            unit                        \n",
       "COFFEE 1.1 Neg      World  Emissions|BC        Mt BC/yr         4.521496   \n",
       "                           Emissions|CH4       Mt CH4/yr      282.894483   \n",
       "                           Emissions|CO        Mt CO/yr       571.102939   \n",
       "                           Emissions|CO2       Mt CO2/yr    19590.064316   \n",
       "                           Emissions|CO2|AFOLU Mt CO2/yr     -624.645038   \n",
       "...                                                                  ...   \n",
       "WITCH 5.0  GS       World  Emissions|PFC|C6F14 kt C6F14/yr      0.439299   \n",
       "                           Emissions|PFC|CF4   kt CF4/yr        4.880410   \n",
       "                           Emissions|SF6       kt SF6/yr        4.679184   \n",
       "                           Emissions|Sulfur    Mt SO2/yr       29.892739   \n",
       "                           Emissions|VOC       Mt VOC/yr      122.756701   \n",
       "\n",
       "                                                                    2050  \\\n",
       "model      scenario region variable            unit                        \n",
       "COFFEE 1.1 Neg      World  Emissions|BC        Mt BC/yr         3.514215   \n",
       "                           Emissions|CH4       Mt CH4/yr      274.620376   \n",
       "                           Emissions|CO        Mt CO/yr       457.901102   \n",
       "                           Emissions|CO2       Mt CO2/yr    10351.503058   \n",
       "                           Emissions|CO2|AFOLU Mt CO2/yr     -546.004229   \n",
       "...                                                                  ...   \n",
       "WITCH 5.0  GS       World  Emissions|PFC|C6F14 kt C6F14/yr      0.286155   \n",
       "                           Emissions|PFC|CF4   kt CF4/yr        3.797173   \n",
       "                           Emissions|SF6       kt SF6/yr        3.655490   \n",
       "                           Emissions|Sulfur    Mt SO2/yr       16.987206   \n",
       "                           Emissions|VOC       Mt VOC/yr       99.161801   \n",
       "\n",
       "                                                                   2060  \\\n",
       "model      scenario region variable            unit                       \n",
       "COFFEE 1.1 Neg      World  Emissions|BC        Mt BC/yr        2.995611   \n",
       "                           Emissions|CH4       Mt CH4/yr     257.692242   \n",
       "                           Emissions|CO        Mt CO/yr      437.098088   \n",
       "                           Emissions|CO2       Mt CO2/yr    -822.145614   \n",
       "                           Emissions|CO2|AFOLU Mt CO2/yr   -1811.357823   \n",
       "...                                                                 ...   \n",
       "WITCH 5.0  GS       World  Emissions|PFC|C6F14 kt C6F14/yr     0.325423   \n",
       "                           Emissions|PFC|CF4   kt CF4/yr       3.185096   \n",
       "                           Emissions|SF6       kt SF6/yr       3.187532   \n",
       "                           Emissions|Sulfur    Mt SO2/yr      12.794764   \n",
       "                           Emissions|VOC       Mt VOC/yr      86.872972   \n",
       "\n",
       "                                                                   2070  \\\n",
       "model      scenario region variable            unit                       \n",
       "COFFEE 1.1 Neg      World  Emissions|BC        Mt BC/yr        2.602566   \n",
       "                           Emissions|CH4       Mt CH4/yr     243.600205   \n",
       "                           Emissions|CO        Mt CO/yr      398.600861   \n",
       "                           Emissions|CO2       Mt CO2/yr   -7532.407310   \n",
       "                           Emissions|CO2|AFOLU Mt CO2/yr   -1907.619188   \n",
       "...                                                                 ...   \n",
       "WITCH 5.0  GS       World  Emissions|PFC|C6F14 kt C6F14/yr     0.268324   \n",
       "                           Emissions|PFC|CF4   kt CF4/yr       2.853472   \n",
       "                           Emissions|SF6       kt SF6/yr       2.866962   \n",
       "                           Emissions|Sulfur    Mt SO2/yr      11.852492   \n",
       "                           Emissions|VOC       Mt VOC/yr      83.297069   \n",
       "\n",
       "                                                                   2080  \\\n",
       "model      scenario region variable            unit                       \n",
       "COFFEE 1.1 Neg      World  Emissions|BC        Mt BC/yr        2.197350   \n",
       "                           Emissions|CH4       Mt CH4/yr     234.684370   \n",
       "                           Emissions|CO        Mt CO/yr      368.646386   \n",
       "                           Emissions|CO2       Mt CO2/yr   -9077.107879   \n",
       "                           Emissions|CO2|AFOLU Mt CO2/yr   -1980.016200   \n",
       "...                                                                 ...   \n",
       "WITCH 5.0  GS       World  Emissions|PFC|C6F14 kt C6F14/yr     0.158383   \n",
       "                           Emissions|PFC|CF4   kt CF4/yr       2.830629   \n",
       "                           Emissions|SF6       kt SF6/yr       2.567710   \n",
       "                           Emissions|Sulfur    Mt SO2/yr      10.890809   \n",
       "                           Emissions|VOC       Mt VOC/yr      80.495594   \n",
       "\n",
       "                                                                    2090  \\\n",
       "model      scenario region variable            unit                        \n",
       "COFFEE 1.1 Neg      World  Emissions|BC        Mt BC/yr         1.817552   \n",
       "                           Emissions|CH4       Mt CH4/yr      220.649461   \n",
       "                           Emissions|CO        Mt CO/yr       333.197575   \n",
       "                           Emissions|CO2       Mt CO2/yr   -13654.102772   \n",
       "                           Emissions|CO2|AFOLU Mt CO2/yr    -2150.700633   \n",
       "...                                                                  ...   \n",
       "WITCH 5.0  GS       World  Emissions|PFC|C6F14 kt C6F14/yr      0.118455   \n",
       "                           Emissions|PFC|CF4   kt CF4/yr        2.861531   \n",
       "                           Emissions|SF6       kt SF6/yr        2.228894   \n",
       "                           Emissions|Sulfur    Mt SO2/yr       10.178586   \n",
       "                           Emissions|VOC       Mt VOC/yr       78.534788   \n",
       "\n",
       "                                                                    2100  ...  \\\n",
       "model      scenario region variable            unit                       ...   \n",
       "COFFEE 1.1 Neg      World  Emissions|BC        Mt BC/yr         1.712026  ...   \n",
       "                           Emissions|CH4       Mt CH4/yr      205.464330  ...   \n",
       "                           Emissions|CO        Mt CO/yr       306.325518  ...   \n",
       "                           Emissions|CO2       Mt CO2/yr   -13228.916244  ...   \n",
       "                           Emissions|CO2|AFOLU Mt CO2/yr     -116.564100  ...   \n",
       "...                                                                  ...  ...   \n",
       "WITCH 5.0  GS       World  Emissions|PFC|C6F14 kt C6F14/yr      0.081788  ...   \n",
       "                           Emissions|PFC|CF4   kt CF4/yr        2.864414  ...   \n",
       "                           Emissions|SF6       kt SF6/yr        1.797693  ...   \n",
       "                           Emissions|Sulfur    Mt SO2/yr        9.584076  ...   \n",
       "                           Emissions|VOC       Mt VOC/yr       76.907487  ...   \n",
       "\n",
       "                                                            2410  2420  2430  \\\n",
       "model      scenario region variable            unit                            \n",
       "COFFEE 1.1 Neg      World  Emissions|BC        Mt BC/yr      NaN   NaN   NaN   \n",
       "                           Emissions|CH4       Mt CH4/yr     NaN   NaN   NaN   \n",
       "                           Emissions|CO        Mt CO/yr      NaN   NaN   NaN   \n",
       "                           Emissions|CO2       Mt CO2/yr     NaN   NaN   NaN   \n",
       "                           Emissions|CO2|AFOLU Mt CO2/yr     NaN   NaN   NaN   \n",
       "...                                                          ...   ...   ...   \n",
       "WITCH 5.0  GS       World  Emissions|PFC|C6F14 kt C6F14/yr   NaN   NaN   NaN   \n",
       "                           Emissions|PFC|CF4   kt CF4/yr     NaN   NaN   NaN   \n",
       "                           Emissions|SF6       kt SF6/yr     NaN   NaN   NaN   \n",
       "                           Emissions|Sulfur    Mt SO2/yr     NaN   NaN   NaN   \n",
       "                           Emissions|VOC       Mt VOC/yr     NaN   NaN   NaN   \n",
       "\n",
       "                                                            2440  2450  2460  \\\n",
       "model      scenario region variable            unit                            \n",
       "COFFEE 1.1 Neg      World  Emissions|BC        Mt BC/yr      NaN   NaN   NaN   \n",
       "                           Emissions|CH4       Mt CH4/yr     NaN   NaN   NaN   \n",
       "                           Emissions|CO        Mt CO/yr      NaN   NaN   NaN   \n",
       "                           Emissions|CO2       Mt CO2/yr     NaN   NaN   NaN   \n",
       "                           Emissions|CO2|AFOLU Mt CO2/yr     NaN   NaN   NaN   \n",
       "...                                                          ...   ...   ...   \n",
       "WITCH 5.0  GS       World  Emissions|PFC|C6F14 kt C6F14/yr   NaN   NaN   NaN   \n",
       "                           Emissions|PFC|CF4   kt CF4/yr     NaN   NaN   NaN   \n",
       "                           Emissions|SF6       kt SF6/yr     NaN   NaN   NaN   \n",
       "                           Emissions|Sulfur    Mt SO2/yr     NaN   NaN   NaN   \n",
       "                           Emissions|VOC       Mt VOC/yr     NaN   NaN   NaN   \n",
       "\n",
       "                                                            2470  2480  2490  \\\n",
       "model      scenario region variable            unit                            \n",
       "COFFEE 1.1 Neg      World  Emissions|BC        Mt BC/yr      NaN   NaN   NaN   \n",
       "                           Emissions|CH4       Mt CH4/yr     NaN   NaN   NaN   \n",
       "                           Emissions|CO        Mt CO/yr      NaN   NaN   NaN   \n",
       "                           Emissions|CO2       Mt CO2/yr     NaN   NaN   NaN   \n",
       "                           Emissions|CO2|AFOLU Mt CO2/yr     NaN   NaN   NaN   \n",
       "...                                                          ...   ...   ...   \n",
       "WITCH 5.0  GS       World  Emissions|PFC|C6F14 kt C6F14/yr   NaN   NaN   NaN   \n",
       "                           Emissions|PFC|CF4   kt CF4/yr     NaN   NaN   NaN   \n",
       "                           Emissions|SF6       kt SF6/yr     NaN   NaN   NaN   \n",
       "                           Emissions|Sulfur    Mt SO2/yr     NaN   NaN   NaN   \n",
       "                           Emissions|VOC       Mt VOC/yr     NaN   NaN   NaN   \n",
       "\n",
       "                                                            2500  \n",
       "model      scenario region variable            unit               \n",
       "COFFEE 1.1 Neg      World  Emissions|BC        Mt BC/yr      NaN  \n",
       "                           Emissions|CH4       Mt CH4/yr     NaN  \n",
       "                           Emissions|CO        Mt CO/yr      NaN  \n",
       "                           Emissions|CO2       Mt CO2/yr     NaN  \n",
       "                           Emissions|CO2|AFOLU Mt CO2/yr     NaN  \n",
       "...                                                          ...  \n",
       "WITCH 5.0  GS       World  Emissions|PFC|C6F14 kt C6F14/yr   NaN  \n",
       "                           Emissions|PFC|CF4   kt CF4/yr     NaN  \n",
       "                           Emissions|SF6       kt SF6/yr     NaN  \n",
       "                           Emissions|Sulfur    Mt SO2/yr     NaN  \n",
       "                           Emissions|VOC       Mt VOC/yr     NaN  \n",
       "\n",
       "[571 rows x 50 columns]"
      ]
     },
     "execution_count": 40,
     "metadata": {},
     "output_type": "execute_result"
    }
   ],
   "source": [
    "dfts"
   ]
  },
  {
   "cell_type": "code",
   "execution_count": 41,
   "id": "3ac41d2d",
   "metadata": {},
   "outputs": [],
   "source": [
    "extended_df = pyam.IamDataFrame(dfts)"
   ]
  },
  {
   "cell_type": "code",
   "execution_count": 42,
   "id": "f673e1ec",
   "metadata": {},
   "outputs": [
    {
     "data": {
      "text/plain": [
       "['CurPol', 'GS', 'LD', 'ModAct', 'Neg', 'Ren', 'SP', 'ssp119', 'ssp534-over']"
      ]
     },
     "execution_count": 42,
     "metadata": {},
     "output_type": "execute_result"
    }
   ],
   "source": [
    "extended_df.scenario"
   ]
  },
  {
   "cell_type": "markdown",
   "id": "5d41a79d",
   "metadata": {},
   "source": [
    "# Add in addional scenarios"
   ]
  },
  {
   "cell_type": "code",
   "execution_count": 43,
   "id": "0f3b7811",
   "metadata": {},
   "outputs": [
    {
     "data": {
      "text/plain": [
       "33736.42676"
      ]
     },
     "execution_count": 43,
     "metadata": {},
     "output_type": "execute_result"
    }
   ],
   "source": [
    "# We can judge the highest possible overshoot decay rate from this scenario\n",
    "overshoot = extended_df.filter(scenario=\"*ov*\", variable=co2).timeseries()\n",
    "max_overshoot_dif = max(max(abs(overshoot.iloc[:, 2:].values - overshoot.iloc[:, 1:-1].values)))\n",
    "max_overshoot_dif"
   ]
  },
  {
   "cell_type": "code",
   "execution_count": 44,
   "id": "5e66654d",
   "metadata": {},
   "outputs": [],
   "source": [
    "new_scens = []\n",
    "for base_scen in [\"CurPol\", \"ModAct\", \"Neg\"]:\n",
    "    curpol_nz_base = extended_df.filter(\n",
    "        scenario=base_scen\n",
    "    ).filter(variable=co2 + \"*\", keep=False).timeseries().reset_index()\n",
    "    curpol_nz_co2_base = extended_df.filter(\n",
    "        scenario=base_scen, variable=co2 + \"*\"\n",
    "    ).timeseries().reset_index()\n",
    "    allindexcols = [\"model\", \"scenario\", \"region\", \"variable\", \"unit\"]\n",
    "    if base_scen != \"Neg\":\n",
    "        nzdate = 2120\n",
    "    else:\n",
    "        nzdate = 2100\n",
    "    yeargap = 10\n",
    "    gradient_lim = max_overshoot_dif / yeargap\n",
    "    value_lims = [-15000, -20000, -25000]\n",
    "    for value_lim in value_lims:\n",
    "        curpol_nz = curpol_nz_base.copy()\n",
    "        curpol_nz_co2 = curpol_nz_co2_base.copy()\n",
    "        curpol_nz[\"scenario\"] = f\"{base_scen} nz {nzdate} decline {value_lim}\"\n",
    "        curpol_nz_co2[\"scenario\"] = curpol_nz[\"scenario\"].iloc[0]\n",
    "        curpol_nz_co2 = curpol_nz_co2.set_index(allindexcols)\n",
    "        curpol_nz = curpol_nz.set_index(allindexcols)\n",
    "        curpol_nz_co2_2100 = curpol_nz_co2.loc[:, 2100]\n",
    "        for year in np.arange(2110, nzdate + 1, yeargap):\n",
    "            curpol_nz_co2.loc[:, year] = curpol_nz_co2_2100 * (1 - (year - 2100) / (nzdate - 2100))\n",
    "        prev_year = nzdate\n",
    "        postnz = [c for c in  curpol_nz_co2.columns if c > nzdate]\n",
    "        for year in postnz:\n",
    "            curpol_nz_co2[year] = np.maximum(curpol_nz_co2[prev_year] - gradient_lim * yeargap, value_lim)\n",
    "            prev_year = year\n",
    "        curpol_nz_co2.loc[curpol_nz_co2.index.get_level_values(\"variable\")==co2+\"|AFOLU\", postnz] = 0\n",
    "        new_scens.append(curpol_nz.append(curpol_nz_co2))"
   ]
  },
  {
   "cell_type": "code",
   "execution_count": 45,
   "id": "79845cec",
   "metadata": {},
   "outputs": [],
   "source": [
    "# Modify scenarios where we want net-zero conditions.\n",
    "nz_co2only_post2100 = [\"Ren\"]\n",
    "nz_allghgh_post2100 = [\"LD\", \"SP\", \"Neg\", \"GS\"]\n",
    "ghgs = [co2 + \"*\", ch4 + \"*\", \"*F-Gases*\", \"*SF6\", \"*HFC*\", \"*PFC*\", \"*N2O*\"]\n",
    "zerodvars = []\n",
    "for scen in nz_co2only_post2100:\n",
    "    co2_comp = extended_df.filter(scenario=scen, variable=co2).timeseries()\n",
    "    co2_comp.loc[:, [c for c in co2_comp.columns if c > 2100]] = 0\n",
    "    zerodvars.append(co2_comp)\n",
    "for scen in nz_allghgh_post2100:\n",
    "    ghg_comp = extended_df.filter(scenario=scen, variable=ghgs).timeseries()\n",
    "    ghg_comp.loc[:, [c for c in ghg_comp.columns if c > 2100]] = 0\n",
    "    zerodvars.append(ghg_comp)"
   ]
  },
  {
   "cell_type": "code",
   "execution_count": 60,
   "id": "faa0294a",
   "metadata": {},
   "outputs": [],
   "source": [
    "extended_df = extended_df.append(pyam.concat(zerodvars))"
   ]
  },
  {
   "cell_type": "code",
   "execution_count": 46,
   "id": "fa9284ac",
   "metadata": {},
   "outputs": [],
   "source": [
    "extended_df = extended_df.filter(scenario=nz_co2only_post2100, variable=co2, keep=False).filter(\n",
    "    scenario=nz_allghgh_post2100, variable=ghgs, keep=False\n",
    ")"
   ]
  },
  {
   "cell_type": "code",
   "execution_count": 47,
   "id": "ea032070",
   "metadata": {},
   "outputs": [],
   "source": [
    "curpol_nz_pyam = pyam.concat(new_scens)"
   ]
  },
  {
   "cell_type": "code",
   "execution_count": 48,
   "id": "b1ff6606",
   "metadata": {
    "scrolled": true
   },
   "outputs": [
    {
     "data": {
      "text/plain": [
       "<matplotlib.legend.Legend at 0x247b749a208>"
      ]
     },
     "execution_count": 48,
     "metadata": {},
     "output_type": "execute_result"
    },
    {
     "data": {
      "image/png": "[encoded data removed]",
      "text/plain": [
       "<Figure size 432x288 with 1 Axes>"
      ]
     },
     "metadata": {
      "needs_background": "light"
     },
     "output_type": "display_data"
    }
   ],
   "source": [
    "ax = plt.subplot()\n",
    "curpol_nz_pyam.filter(variable=co2).plot(ax=ax)\n",
    "extended_df.filter(variable=co2, scenario=\"*ov*\").plot(ax=ax)\n",
    "plt.legend(bbox_to_anchor=(1.05, 1))"
   ]
  },
  {
   "cell_type": "code",
   "execution_count": 49,
   "id": "2f34e49e",
   "metadata": {},
   "outputs": [],
   "source": [
    "extended_df = extended_df.append(curpol_nz_pyam)"
   ]
  },
  {
   "cell_type": "code",
   "execution_count": 50,
   "id": "a456fc90",
   "metadata": {},
   "outputs": [
    {
     "data": {
      "text/plain": [
       "['CurPol',\n",
       " 'CurPol nz 2120 decline -15000',\n",
       " 'CurPol nz 2120 decline -20000',\n",
       " 'CurPol nz 2120 decline -25000',\n",
       " 'GS',\n",
       " 'LD',\n",
       " 'ModAct',\n",
       " 'ModAct nz 2120 decline -15000',\n",
       " 'ModAct nz 2120 decline -20000',\n",
       " 'ModAct nz 2120 decline -25000',\n",
       " 'Neg',\n",
       " 'Neg nz 2100 decline -15000',\n",
       " 'Neg nz 2100 decline -20000',\n",
       " 'Neg nz 2100 decline -25000',\n",
       " 'Ren',\n",
       " 'SP',\n",
       " 'ssp119',\n",
       " 'ssp534-over']"
      ]
     },
     "execution_count": 50,
     "metadata": {},
     "output_type": "execute_result"
    }
   ],
   "source": [
    "extended_df.scenario"
   ]
  },
  {
   "cell_type": "code",
   "execution_count": 51,
   "id": "ec132142",
   "metadata": {},
   "outputs": [
    {
     "data": {
      "text/plain": [
       "<matplotlib.legend.Legend at 0x247aeadfbc8>"
      ]
     },
     "execution_count": 51,
     "metadata": {},
     "output_type": "execute_result"
    },
    {
     "data": {
      "image/png": "[encoded data removed]",
      "text/plain": [
       "<Figure size 432x288 with 1 Axes>"
      ]
     },
     "metadata": {
      "needs_background": "light"
     },
     "output_type": "display_data"
    }
   ],
   "source": [
    "extended_df.filter(scenario=[\"*+*\", \"*decline*\", \"Abrupt*\"], keep=False).filter(variable=co2).plot()\n",
    "plt.legend(bbox_to_anchor=(1.05, 1))"
   ]
  },
  {
   "cell_type": "code",
   "execution_count": 54,
   "id": "43cfdafe",
   "metadata": {},
   "outputs": [
    {
     "data": {
      "text/plain": [
       "<matplotlib.legend.Legend at 0x247ae9f3688>"
      ]
     },
     "execution_count": 54,
     "metadata": {},
     "output_type": "execute_result"
    },
    {
     "data": {
      "image/png": "[encoded data removed]",
      "text/plain": [
       "<Figure size 432x288 with 1 Axes>"
      ]
     },
     "metadata": {
      "needs_background": "light"
     },
     "output_type": "display_data"
    }
   ],
   "source": [
    "extended_df.filter(scenario=\"*CurPol*\", variable=co2).plot()\n",
    "plt.legend(bbox_to_anchor=(1.05, 1))"
   ]
  },
  {
   "cell_type": "code",
   "execution_count": 61,
   "id": "302241f7",
   "metadata": {},
   "outputs": [],
   "source": [
    "for scenario in extended_df.scenario:\n",
    "    data = extended_df.filter(\n",
    "            scenario=scenario, variable=\"Emissions|*\", year=normal_years+list(extra_years)\n",
    "        ).filter(\n",
    "            variable=bad_vars, keep=False\n",
    "        )\n",
    "    scripts.utils.construct_scen_file(\n",
    "        data, \n",
    "        scen_file.format(scenario)\n",
    "    )"
   ]
  },
  {
   "cell_type": "code",
   "execution_count": 62,
   "id": "8c2dc625",
   "metadata": {},
   "outputs": [
    {
     "data": {
      "text/plain": [
       "'../output/chosen_files/v6/scen_{}'"
      ]
     },
     "execution_count": 62,
     "metadata": {},
     "output_type": "execute_result"
    }
   ],
   "source": [
    "scen_file"
   ]
  }
 ],
 "metadata": {
  "kernelspec": {
   "display_name": "silicone-1",
   "language": "python",
   "name": "silicone-1"
  },
  "language_info": {
   "codemirror_mode": {
    "name": "ipython",
    "version": 3
   },
   "file_extension": ".py",
   "mimetype": "text/x-python",
   "name": "python",
   "nbconvert_exporter": "python",
   "pygments_lexer": "ipython3",
   "version": "3.7.11"
  }
 },
 "nbformat": 4,
 "nbformat_minor": 5
}
